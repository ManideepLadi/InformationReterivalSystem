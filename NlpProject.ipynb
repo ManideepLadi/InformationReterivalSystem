{
  "nbformat": 4,
  "nbformat_minor": 0,
  "metadata": {
    "colab": {
      "name": "NlpProject.ipynb",
      "provenance": [],
      "include_colab_link": true
    },
    "kernelspec": {
      "name": "python3",
      "display_name": "Python 3"
    },
    "language_info": {
      "name": "python"
    },
    "accelerator": "GPU"
  },
  "cells": [
    {
      "cell_type": "markdown",
      "metadata": {
        "id": "view-in-github",
        "colab_type": "text"
      },
      "source": [
        "<a href=\"https://colab.research.google.com/github/ManideepLadi/NLP_InformationReterival/blob/master/NlpProject.ipynb\" target=\"_parent\"><img src=\"https://colab.research.google.com/assets/colab-badge.svg\" alt=\"Open In Colab\"/></a>"
      ]
    },
    {
      "cell_type": "code",
      "metadata": {
        "colab": {
          "base_uri": "https://localhost:8080/"
        },
        "id": "3gFIfw0QX6bo",
        "outputId": "c1777b15-6630-4269-efb3-d23b41a60fd3"
      },
      "source": [
        "!pip install textblob"
      ],
      "execution_count": 25,
      "outputs": [
        {
          "output_type": "stream",
          "text": [
            "Requirement already satisfied: textblob in /usr/local/lib/python3.7/dist-packages (0.15.3)\n",
            "Requirement already satisfied: nltk>=3.1 in /usr/local/lib/python3.7/dist-packages (from textblob) (3.2.5)\n",
            "Requirement already satisfied: six in /usr/local/lib/python3.7/dist-packages (from nltk>=3.1->textblob) (1.15.0)\n"
          ],
          "name": "stdout"
        }
      ]
    },
    {
      "cell_type": "code",
      "metadata": {
        "colab": {
          "base_uri": "https://localhost:8080/"
        },
        "id": "k9_R_olHN-b6",
        "outputId": "5019a17e-80b4-4b03-f897-de44b59afcab"
      },
      "source": [
        "from nltk import TreebankWordTokenizer\n",
        "from sys import version_info\n",
        "import argparse\n",
        "import json\n",
        "import matplotlib\n",
        "import math\n",
        "import numpy as np\n",
        "from numpy import dot\n",
        "from numpy.linalg import norm\n",
        "\n",
        "\n",
        "from textblob import TextBlob\n",
        "import matplotlib.pyplot as plt\n",
        "import nltk\n",
        "import re\n",
        "nltk.download('punkt')\n",
        "from nltk.stem import WordNetLemmatizer\n",
        "nltk.download('wordnet')\n",
        "nltk.download('stopwords')\n",
        "from nltk.corpus import stopwords"
      ],
      "execution_count": 1,
      "outputs": [
        {
          "output_type": "stream",
          "text": [
            "[nltk_data] Downloading package punkt to /root/nltk_data...\n",
            "[nltk_data]   Unzipping tokenizers/punkt.zip.\n",
            "[nltk_data] Downloading package wordnet to /root/nltk_data...\n",
            "[nltk_data]   Unzipping corpora/wordnet.zip.\n",
            "[nltk_data] Downloading package stopwords to /root/nltk_data...\n",
            "[nltk_data]   Unzipping corpora/stopwords.zip.\n"
          ],
          "name": "stdout"
        }
      ]
    },
    {
      "cell_type": "code",
      "metadata": {
        "colab": {
          "resources": {
            "http://localhost:8080/nbextensions/google.colab/files.js": {
              "data": "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",
              "ok": true,
              "headers": [
                [
                  "content-type",
                  "application/javascript"
                ]
              ],
              "status": 200,
              "status_text": ""
            }
          },
          "base_uri": "https://localhost:8080/",
          "height": 72
        },
        "id": "yX1k3F8qSa3e",
        "outputId": "389e2063-bf32-4372-f9f0-c646f21a502e"
      },
      "source": [
        "from google.colab import files\n",
        "uploaded = files.upload()"
      ],
      "execution_count": 2,
      "outputs": [
        {
          "output_type": "display_data",
          "data": {
            "text/html": [
              "\n",
              "     <input type=\"file\" id=\"files-07908ea7-3a5a-4b36-951e-349d3fdd44b6\" name=\"files[]\" multiple disabled\n",
              "        style=\"border:none\" />\n",
              "     <output id=\"result-07908ea7-3a5a-4b36-951e-349d3fdd44b6\">\n",
              "      Upload widget is only available when the cell has been executed in the\n",
              "      current browser session. Please rerun this cell to enable.\n",
              "      </output>\n",
              "      <script src=\"/nbextensions/google.colab/files.js\"></script> "
            ],
            "text/plain": [
              "<IPython.core.display.HTML object>"
            ]
          },
          "metadata": {
            "tags": []
          }
        },
        {
          "output_type": "stream",
          "text": [
            "Saving Cranfield_Dataset.zip to Cranfield_Dataset.zip\n"
          ],
          "name": "stdout"
        }
      ]
    },
    {
      "cell_type": "code",
      "metadata": {
        "colab": {
          "base_uri": "https://localhost:8080/"
        },
        "id": "ruE3Jcvi12CE",
        "outputId": "4c5a16b6-e091-4ec0-8f5f-2958e3ef9987"
      },
      "source": [
        "!unzip /content/Cranfield_Dataset.zip"
      ],
      "execution_count": 3,
      "outputs": [
        {
          "output_type": "stream",
          "text": [
            "Archive:  /content/Cranfield_Dataset.zip\n",
            "   creating: cranfield/\n",
            "  inflating: cranfield/.DS_Store     \n",
            "   creating: __MACOSX/\n",
            "   creating: __MACOSX/cranfield/\n",
            "  inflating: __MACOSX/cranfield/._.DS_Store  \n",
            "  inflating: cranfield/cran_queries.json  \n",
            "  inflating: __MACOSX/cranfield/._cran_queries.json  \n",
            "  inflating: cranfield/cran_qrels.json  \n",
            "  inflating: __MACOSX/cranfield/._cran_qrels.json  \n",
            "  inflating: cranfield/cran_docs.json  \n",
            "  inflating: __MACOSX/cranfield/._cran_docs.json  \n",
            "  inflating: cranfield/README.txt    \n",
            "  inflating: __MACOSX/cranfield/._README.txt  \n"
          ],
          "name": "stdout"
        }
      ]
    },
    {
      "cell_type": "code",
      "metadata": {
        "colab": {
          "base_uri": "https://localhost:8080/"
        },
        "id": "9ULGz4XlSft5",
        "outputId": "07edc22f-bc59-4435-d750-0d099d2a4a82"
      },
      "source": [
        "%cd /content/cranfield"
      ],
      "execution_count": 4,
      "outputs": [
        {
          "output_type": "stream",
          "text": [
            "/content/cranfield\n"
          ],
          "name": "stdout"
        }
      ]
    },
    {
      "cell_type": "code",
      "metadata": {
        "id": "kT2-9Vze6moU"
      },
      "source": [
        "import math\n",
        "\n",
        "\n",
        "# Add your import statements here\n",
        "\n",
        "\n",
        "class Evaluation():\n",
        "\n",
        "    def queryPrecision(self, query_doc_IDs_ordered, query_id, true_doc_IDs, k):\n",
        "        \"\"\"\n",
        "        Computation of precision of the Information Retrieval System\n",
        "        at a given value of k for a single query\n",
        "\n",
        "        Parameters\n",
        "        ----------\n",
        "        arg1 : list\n",
        "            A list of integers denoting the IDs of documents in\n",
        "            their predicted order of relevance to a query\n",
        "        arg2 : int\n",
        "            The ID of the query in question\n",
        "        arg3 : list\n",
        "            The list of IDs of documents relevant to the query (ground truth)\n",
        "        arg4 : int\n",
        "            The k value\n",
        "\n",
        "        Returns\n",
        "        -------\n",
        "        float\n",
        "            The precision value as a number between 0 and 1\n",
        "        \"\"\"\n",
        "\n",
        "        precision = 0\n",
        "\n",
        "        # Fill in code here\n",
        "        # precision@k is number of relevant docs encountered till top k\n",
        "        # docs in the retrieved\n",
        "        count = 0\n",
        "        # to keep track of the relevant doc encountered\n",
        "        i = 0\n",
        "        while (i < k):\n",
        "            if query_doc_IDs_ordered[i] in true_doc_IDs:\n",
        "                count = count + 1\n",
        "            i = i + 1\n",
        "        precision = count / k\n",
        "\n",
        "        return precision\n",
        "\n",
        "    def meanPrecision(self, doc_IDs_ordered, query_ids, qrels, k):\n",
        "        \"\"\"\n",
        "        Computation of precision of the Information Retrieval System\n",
        "        at a given value of k, averaged over all the queries\n",
        "\n",
        "        Parameters\n",
        "        ----------\n",
        "        arg1 : list\n",
        "            A list of lists of integers where the ith sub-list is a list of IDs\n",
        "            of documents in their predicted order of relevance to the ith query\n",
        "        arg2 : list\n",
        "            A list of IDs of the queries for which the documents are ordered\n",
        "        arg3 : list\n",
        "            A list of dictionaries containing document-relevance\n",
        "            judgements - Refer cran_qrels.json for the structure of each\n",
        "            dictionary\n",
        "        arg4 : int\n",
        "            The k value\n",
        "\n",
        "        Returns\n",
        "        -------\n",
        "        float\n",
        "            The mean precision value as a number between 0 and 1\n",
        "        \"\"\"\n",
        "\n",
        "        meanPrecision = -1\n",
        "\n",
        "        # Fill in code here\n",
        "        count = 0\n",
        "        total_precision = 0\n",
        "        for i in query_ids:\n",
        "            true_doc_IDs = []\n",
        "            flag = 0\n",
        "            for dic in qrels:\n",
        "                if int(dic[\"query_num\"]) == i:\n",
        "                    flag = 1\n",
        "                    true_doc_IDs.append(int(dic[\"id\"]))\n",
        "                elif flag == 1:\n",
        "                    break\n",
        "            total_precision = total_precision + self.queryPrecision(doc_IDs_ordered[count], i, true_doc_IDs, k)\n",
        "            count = count + 1\n",
        "        meanPrecision = total_precision / count\n",
        "\n",
        "        return meanPrecision\n",
        "\n",
        "    def queryRecall(self, query_doc_IDs_ordered, query_id, true_doc_IDs, k):\n",
        "        \"\"\"\n",
        "        Computation of recall of the Information Retrieval System\n",
        "        at a given value of k for a single query\n",
        "\n",
        "        Parameters\n",
        "        ----------\n",
        "        arg1 : list\n",
        "            A list of integers denoting the IDs of documents in\n",
        "            their predicted order of relevance to a query\n",
        "        arg2 : int\n",
        "            The ID of the query in question\n",
        "        arg3 : list\n",
        "            The list of IDs of documents relevant to the query (ground truth)\n",
        "        arg4 : int\n",
        "            The k value\n",
        "\n",
        "        Returns\n",
        "        -------\n",
        "        float\n",
        "            The recall value as a number between 0 and 1\n",
        "        \"\"\"\n",
        "\n",
        "        recall = -1\n",
        "\n",
        "        # Fill in code here\n",
        "        count = 0\n",
        "        i = 0\n",
        "        while i < k and i < len(query_doc_IDs_ordered):\n",
        "            if query_doc_IDs_ordered[i] in true_doc_IDs:\n",
        "                count = count + 1\n",
        "            i = i + 1\n",
        "        if len(true_doc_IDs) > 0:\n",
        "            recall = count / len(true_doc_IDs)\n",
        "        else:\n",
        "            recall = 1\n",
        "\n",
        "        return recall\n",
        "\n",
        "    def meanRecall(self, doc_IDs_ordered, query_ids, qrels, k):\n",
        "        \"\"\"\n",
        "        Computation of recall of the Information Retrieval System\n",
        "        at a given value of k, averaged over all the queries\n",
        "\n",
        "        Parameters\n",
        "        ----------\n",
        "        arg1 : list\n",
        "            A list of lists of integers where the ith sub-list is a list of IDs\n",
        "            of documents in their predicted order of relevance to the ith query\n",
        "        arg2 : list\n",
        "            A list of IDs of the queries for which the documents are ordered\n",
        "        arg3 : list\n",
        "            A list of dictionaries containing document-relevance\n",
        "            judgements - Refer cran_qrels.json for the structure of each\n",
        "            dictionary\n",
        "        arg4 : int\n",
        "            The k value\n",
        "\n",
        "        Returns\n",
        "        -------\n",
        "        float\n",
        "            The mean recall value as a number between 0 and 1\n",
        "        \"\"\"\n",
        "\n",
        "        meanRecall = -1\n",
        "\n",
        "        # Fill in code here\n",
        "        total_recall = 0\n",
        "        count = 0\n",
        "        for i in query_ids:\n",
        "            true_doc_IDs = []\n",
        "            flag = 0\n",
        "            for dic in qrels:\n",
        "                if int(dic[\"query_num\"]) == i:\n",
        "                    flag = 1\n",
        "                    true_doc_IDs.append(int(dic[\"id\"]))\n",
        "                elif flag == 1:\n",
        "                    break\n",
        "            total_recall = total_recall + self.queryRecall(doc_IDs_ordered[count], i, true_doc_IDs, k)\n",
        "            count = count + 1\n",
        "        meanRecall = total_recall / count\n",
        "\n",
        "        return meanRecall\n",
        "\n",
        "    def queryFscore(self, query_doc_IDs_ordered, query_id, true_doc_IDs, k):\n",
        "        \"\"\"\n",
        "        Computation of fscore of the Information Retrieval System\n",
        "        at a given value of k for a single query\n",
        "\n",
        "        Parameters\n",
        "        ----------\n",
        "        arg1 : list\n",
        "            A list of integers denoting the IDs of documents in\n",
        "            their predicted order of relevance to a query\n",
        "        arg2 : int\n",
        "            The ID of the query in question\n",
        "        arg3 : list\n",
        "            The list of IDs of documents relevant to the query (ground truth)\n",
        "        arg4 : int\n",
        "            The k value\n",
        "\n",
        "        Returns\n",
        "        -------\n",
        "        float\n",
        "            The fscore value as a number between 0 and 1\n",
        "        \"\"\"\n",
        "\n",
        "        fscore = -1\n",
        "\n",
        "        # Fill in code here\n",
        "        Precision_at_k = -1\n",
        "        Recall_at_k = -1\n",
        "        count = 0\n",
        "        i = 0\n",
        "        while i < k and i < len(query_doc_IDs_ordered):\n",
        "            if query_doc_IDs_ordered[i] in true_doc_IDs:\n",
        "                count = count + 1\n",
        "            i = i + 1\n",
        "        Precision_at_k = count / k\n",
        "        Recall_at_k = count / len(true_doc_IDs)\n",
        "        if Precision_at_k + Recall_at_k > 0:\n",
        "            fscore = 2 * Precision_at_k * Recall_at_k / (Precision_at_k + Recall_at_k)\n",
        "        else:\n",
        "            fscore = 0\n",
        "\n",
        "        return fscore\n",
        "\n",
        "    def meanFscore(self, doc_IDs_ordered, query_ids, qrels, k):\n",
        "        \"\"\"\n",
        "        Computation of fscore of the Information Retrieval System\n",
        "        at a given value of k, averaged over all the queries\n",
        "\n",
        "        Parameters\n",
        "        ----------\n",
        "        arg1 : list\n",
        "            A list of lists of integers where the ith sub-list is a list of IDs\n",
        "            of documents in their predicted order of relevance to the ith query\n",
        "        arg2 : list\n",
        "            A list of IDs of the queries for which the documents are ordered\n",
        "        arg3 : list\n",
        "            A list of dictionaries containing document-relevance\n",
        "            judgements - Refer cran_qrels.json for the structure of each\n",
        "            dictionary\n",
        "        arg4 : int\n",
        "            The k value\n",
        "\n",
        "        Returns\n",
        "        -------\n",
        "        float\n",
        "            The mean fscore value as a number between 0 and 1\n",
        "        \"\"\"\n",
        "\n",
        "        meanFscore = -1\n",
        "\n",
        "        # Fill in code here\n",
        "        count = 0\n",
        "        total_Fscore = 0\n",
        "        for i in query_ids:\n",
        "            true_doc_IDs = []\n",
        "            flag = 0\n",
        "            for dic in qrels:\n",
        "                if int(dic[\"query_num\"]) == i:\n",
        "                    flag = 1\n",
        "                    true_doc_IDs.append(int(dic[\"id\"]))\n",
        "                elif flag == 1:\n",
        "                    break\n",
        "            total_Fscore = total_Fscore + self.queryFscore(doc_IDs_ordered[count], i, true_doc_IDs, k)\n",
        "            count = count + 1\n",
        "        meanFscore = total_Fscore / count\n",
        "\n",
        "        return meanFscore\n",
        "\n",
        "    def queryNDCG(self, query_doc_IDs_ordered, query_id, true_doc_IDs, k):\n",
        "        \"\"\"\n",
        "        Computation of nDCG of the Information Retrieval System\n",
        "        at given value of k for a single query\n",
        "\n",
        "        Parameters\n",
        "        ----------\n",
        "        arg1 : list\n",
        "            A list of integers denoting the IDs of documents in\n",
        "            their predicted order of relevance to a query\n",
        "        arg2 : int\n",
        "            The ID of the query in question\n",
        "        arg3 : list\n",
        "            The list of IDs of documents relevant to the query (ground truth)\n",
        "        arg4 : int\n",
        "            The k value\n",
        "\n",
        "        Returns\n",
        "        -------\n",
        "        float\n",
        "            The nDCG value as a number between 0 and 1\n",
        "        \"\"\"\n",
        "\n",
        "        nDCG = -1\n",
        "\n",
        "        # Fill in code here\n",
        "        i = 0\n",
        "        j = 0\n",
        "        DCG = 0\n",
        "        best_order = []\n",
        "        while i < k:\n",
        "            if query_doc_IDs_ordered[i] in true_doc_IDs:\n",
        "                DCG = DCG + true_doc_IDs[query_doc_IDs_ordered[i]] / math.log((i + 2), 2)\n",
        "                best_order.append(true_doc_IDs[query_doc_IDs_ordered[i]])\n",
        "            i = i + 1\n",
        "        best_order.sort(reverse=True)\n",
        "        iDCG = 0\n",
        "        while j < len(best_order):\n",
        "            iDCG = iDCG + best_order[j] / math.log((j + 2), 2)\n",
        "            j = j + 1\n",
        "        if iDCG > 0:\n",
        "            nDCG = DCG / iDCG\n",
        "        else:\n",
        "            nDCG = 0\n",
        "\n",
        "        return nDCG\n",
        "\n",
        "    def meanNDCG(self, doc_IDs_ordered, query_ids, qrels, k):\n",
        "        \"\"\"\n",
        "        Computation of nDCG of the Information Retrieval System\n",
        "        at a given value of k, averaged over all the queries\n",
        "\n",
        "        Parameters\n",
        "        ----------\n",
        "        arg1 : list\n",
        "            A list of lists of integers where the ith sub-list is a list of IDs\n",
        "            of documents in their predicted order of relevance to the ith query\n",
        "        arg2 : list\n",
        "            A list of IDs of the queries for which the documents are ordered\n",
        "        arg3 : list\n",
        "            A list of dictionaries containing document-relevance\n",
        "            judgements - Refer cran_qrels.json for the structure of each\n",
        "            dictionary\n",
        "        arg4 : int\n",
        "            The k value\n",
        "\n",
        "        Returns\n",
        "        -------\n",
        "        float\n",
        "            The mean nDCG value as a number between 0 and 1\n",
        "        \"\"\"\n",
        "\n",
        "        meanNDCG = -1\n",
        "\n",
        "        # Fill in code here\n",
        "        totalNDCG = 0\n",
        "        count = 0\n",
        "        for i in query_ids:\n",
        "            true_doc_IDs = {}\n",
        "            flag = 0\n",
        "            for dic in qrels:\n",
        "                if int(dic[\"query_num\"]) == i:\n",
        "                    flag = 1\n",
        "                    true_doc_IDs[int(dic[\"id\"])] = 5 - int(dic[\"position\"])\n",
        "                elif flag == 1:\n",
        "                    break\n",
        "            totalNDCG = totalNDCG + self.queryNDCG(doc_IDs_ordered[count], i, true_doc_IDs, k)\n",
        "            count = count + 1\n",
        "        meanNDCG = totalNDCG / count\n",
        "\n",
        "        return meanNDCG\n",
        "\n",
        "    def queryAveragePrecision(self, query_doc_IDs_ordered, query_id, true_doc_IDs, k):\n",
        "        \"\"\"\n",
        "        Computation of average precision of the Information Retrieval System\n",
        "        at a given value of k for a single query (the average of precision@i\n",
        "        values for i such that the ith document is truly relevant)\n",
        "\n",
        "        Parameters\n",
        "        ----------\n",
        "        arg1 : list\n",
        "            A list of integers denoting the IDs of documents in\n",
        "            their predicted order of relevance to a query\n",
        "        arg2 : int\n",
        "            The ID of the query in question\n",
        "        arg3 : list\n",
        "            The list of documents relevant to the query (ground truth)\n",
        "        arg4 : int\n",
        "            The k value\n",
        "\n",
        "        Returns\n",
        "        -------\n",
        "        float\n",
        "            The average precision value as a number between 0 and 1\n",
        "        \"\"\"\n",
        "\n",
        "        avgPrecision = -1\n",
        "\n",
        "        # Fill in code here\n",
        "        count = 0\n",
        "        total_precision = 0\n",
        "        i = 0\n",
        "        while i < k :\n",
        "            if query_doc_IDs_ordered[i] in true_doc_IDs:\n",
        "                total_precision = total_precision + ((count + 1) / (i + 1))\n",
        "                count = count + 1\n",
        "            i = i + 1\n",
        "        if count > 0:\n",
        "            avgPrecision = total_precision / count\n",
        "        else:\n",
        "            avgPrecision = 0\n",
        "\n",
        "        return avgPrecision\n",
        "\n",
        "    def meanAveragePrecision(self, doc_IDs_ordered, query_ids, q_rels, k):\n",
        "        \"\"\"\n",
        "        Computation of MAP of the Information Retrieval System\n",
        "        at given value of k, averaged over all the queries\n",
        "\n",
        "        Parameters\n",
        "        ----------\n",
        "        arg1 : list\n",
        "            A list of lists of integers where the ith sub-list is a list of IDs\n",
        "            of documents in their predicted order of relevance to the ith query\n",
        "        arg2 : list\n",
        "            A list of IDs of the queries\n",
        "        arg3 : list\n",
        "            A list of dictionaries containing document-relevance\n",
        "            judgements - Refer cran_qrels.json for the structure of each\n",
        "            dictionary\n",
        "        arg4 : int\n",
        "            The k value\n",
        "\n",
        "        Returns\n",
        "        -------\n",
        "        float\n",
        "            The MAP value as a number between 0 and 1\n",
        "        \"\"\"\n",
        "\n",
        "        meanAveragePrecision = -1\n",
        "\n",
        "        # Fill in code here\n",
        "        total_precision = 0\n",
        "        count = 0\n",
        "        for i in query_ids:\n",
        "            true_doc_IDs = []\n",
        "            flag = 0\n",
        "            for dic in q_rels:\n",
        "                if int(dic[\"query_num\"]) == i:\n",
        "                    flag = 1\n",
        "                    true_doc_IDs.append(int(dic[\"id\"]))\n",
        "                elif flag == 1:\n",
        "                    break\n",
        "            total_precision = total_precision + self.queryAveragePrecision(doc_IDs_ordered[count], i, true_doc_IDs, k)\n",
        "            count = count + 1\n",
        "        meanAveragePrecision = total_precision / count\n",
        "\n",
        "        return meanAveragePrecision\n"
      ],
      "execution_count": 5,
      "outputs": []
    },
    {
      "cell_type": "code",
      "metadata": {
        "id": "mwsY_SuGNFqz"
      },
      "source": [
        "def punktSentenceSegmenter( text): \n",
        "  segmentedText = None\n",
        "  # Fill in code here\n",
        "  # Loading PunktSentenceTokenizer using English pickle file\n",
        "  tokenizer = nltk.data.load('tokenizers/punkt/english.pickle')\n",
        "  segmentedText = tokenizer.tokenize(text)\n",
        "  return segmentedText\n",
        "\n",
        "def pennTreeBankTokenizer(text):\n",
        "  #Fill in code here\n",
        "\ttokenizedText = list()\n",
        "\n",
        "\t# Fill in code here\n",
        "\tfor ls in text:\n",
        "\t\ttokenList=TreebankWordTokenizer().tokenize(ls)\n",
        "\t\ttokenizedText.append(tokenList)\n",
        "\n",
        "\treturn tokenizedText\n",
        "\n",
        "def Lematization(text):\n",
        "  reducedText = list()\n",
        "  lemmatizer = WordNetLemmatizer()\n",
        "  for ls in text:\n",
        "    sentence_list=list()\n",
        "    for word in ls:\n",
        "      sentence_list.append(lemmatizer.lemmatize(word))\n",
        "    reducedText.append(sentence_list)\n",
        "\t\t\n",
        "  return reducedText\n",
        "\n",
        "def stopWordRemoval(text):\n",
        "  # Fill in code here\n",
        "  stopwordRemovedText = []\n",
        "  stop_words = set(stopwords.words('english'))\n",
        "  for i in range(len(text)):\n",
        "    filtered_sentence = []\n",
        "    for w in text[i]:\n",
        "      if w not in stop_words:\n",
        "        filtered_sentence.append(w)\n",
        "    stopwordRemovedText.append(filtered_sentence)\n",
        "  return stopwordRemovedText\n",
        "\n",
        "def spellChecker(text):\n",
        "  spellCheckedText = []\n",
        "  for i in range(len(text)):\n",
        "    checked_sentence = []\n",
        "    for w in text[i]:\n",
        "      checked_sentence.append(str(TextBlob(w).correct()))\n",
        "    spellCheckedText.append(checked_sentence)\n",
        "  return spellCheckedText"
      ],
      "execution_count": 6,
      "outputs": []
    },
    {
      "cell_type": "code",
      "metadata": {
        "id": "cymAmFKGNy66"
      },
      "source": [
        ""
      ],
      "execution_count": 7,
      "outputs": []
    },
    {
      "cell_type": "code",
      "metadata": {
        "id": "xcCdbueHOL_I"
      },
      "source": [
        ""
      ],
      "execution_count": 8,
      "outputs": []
    },
    {
      "cell_type": "code",
      "metadata": {
        "id": "s3q1MlQzO2Ks"
      },
      "source": [
        ""
      ],
      "execution_count": 9,
      "outputs": []
    },
    {
      "cell_type": "code",
      "metadata": {
        "id": "AXHsAz4ZYLgI"
      },
      "source": [
        "\n"
      ],
      "execution_count": 10,
      "outputs": []
    },
    {
      "cell_type": "code",
      "metadata": {
        "id": "kz8RfFrhP6sR"
      },
      "source": [
        "def preprocess(docs):\n",
        "  segmentedDocs = []\n",
        "  for doc in docs:\n",
        "    segmentedDoc = punktSentenceSegmenter(doc)\n",
        "    segmentedDocs.append(segmentedDoc)\n",
        "    #print(segmentedDoc)\n",
        "  # Tokenize docs\n",
        "  tokenizedDocs = []\n",
        "  for doc in segmentedDocs:\n",
        "    tokenizedDoc = pennTreeBankTokenizer(doc)\n",
        "    tokenizedDocs.append(tokenizedDoc)\n",
        "    #print(tokenizedDoc)\n",
        "  # Stem/Lemmatize docs\n",
        "  reducedDocs = []\n",
        "  for doc in tokenizedDocs:\n",
        "    reducedDoc = Lematization(doc)\n",
        "    reducedDocs.append(reducedDoc)\n",
        "    #print(reducedDoc)\n",
        " #SpellChecker\n",
        "  # count = 0\n",
        "  # spellCheckedDocs = []\n",
        "  # for doc in reducedDocs:\n",
        "  #   count=count+1\n",
        "  #   print(count)\n",
        "  #   spellCheckedDoc= spellChecker(doc)\n",
        "  #   spellCheckedDocs.append(spellCheckedDoc)\n",
        "\n",
        " # Remove stopwords from docs\n",
        "  stopwordRemovedDocs = []\n",
        "  for doc in reducedDocs:\n",
        "    stopwordRemovedDoc = stopWordRemoval(doc)\n",
        "    stopwordRemovedDocs.append(stopwordRemovedDoc)\n",
        "    #print(stopwordRemovedDoc)\n",
        "  preprocessedDocs = stopwordRemovedDocs\n",
        "  return preprocessedDocs\n",
        "        "
      ],
      "execution_count": 11,
      "outputs": []
    },
    {
      "cell_type": "markdown",
      "metadata": {
        "id": "HieAzvHLDFYf"
      },
      "source": [
        "Read Queries and Docs from json files and preprocess them"
      ]
    },
    {
      "cell_type": "code",
      "metadata": {
        "id": "0zatIKAsMnfW"
      },
      "source": [
        "# Read queries\n",
        "queries_json = json.load(open(\"cran_queries.json\", 'r'))[:]\n",
        "query_ids, queries = [item[\"query number\"] for item in queries_json], \\\n",
        "                             [item[\"query\"] for item in queries_json]\n",
        "# Process queries\n",
        "processedQueries = preprocess(queries)\n",
        "\n",
        "# Read documents\n",
        "docs_json = json.load(open(\"cran_docs.json\", 'r'))[:]\n",
        "doc_ids, docs = [item[\"id\"] for item in docs_json], \\\n",
        "                        [item[\"body\"] for item in docs_json]\n",
        "        \n",
        "# Process documents\n",
        "processedDocs = preprocess(docs)"
      ],
      "execution_count": 12,
      "outputs": []
    },
    {
      "cell_type": "code",
      "metadata": {
        "id": "zVyGGLDT5Hc_"
      },
      "source": [
        "from itertools import chain\n",
        "finalDocs=[]\n",
        "for i in range(len(processedDocs)):\n",
        "  flatten_list = list(chain.from_iterable(processedDocs[i]))\n",
        "  finalDocs.append(flatten_list)\n"
      ],
      "execution_count": 13,
      "outputs": []
    },
    {
      "cell_type": "code",
      "metadata": {
        "id": "1eQ570WYtXg5"
      },
      "source": [
        "def removeDuplicates(unigramsList):\n",
        "    return list(dict.fromkeys(unigramsList))"
      ],
      "execution_count": 14,
      "outputs": []
    },
    {
      "cell_type": "code",
      "metadata": {
        "id": "4U3BRKzDz2gw"
      },
      "source": [
        "def cosineSimilarityMeasure(QueryVector, documentVector):\n",
        "    if norm(QueryVector)  != 0:\n",
        "        return dot(QueryVector, documentVector) / (norm(QueryVector) * norm(documentVector))\n",
        "    else:\n",
        "        return 0"
      ],
      "execution_count": 15,
      "outputs": []
    },
    {
      "cell_type": "code",
      "metadata": {
        "id": "E-hrZD2OrQy0"
      },
      "source": [
        "def createTermDocumentMatrix():\n",
        "  unigrams_list = list()\n",
        "  print(unigrams_list)\n",
        "  for i in range(len(finalDocs)):\n",
        "    for j in range(len(finalDocs[i])):\n",
        "        unigrams_list.append(finalDocs[i][j])\n",
        "\n",
        "  unique_unigrams = removeDuplicates(unigrams_list)\n",
        "  print(unique_unigrams)\n",
        "  # build term-document matrix\n",
        "  termDocument_Matrix = np.zeros((len(unique_unigrams), len(doc_ids)))\n",
        "  print(termDocument_Matrix.shape)\n",
        "  for l in range(len(unique_unigrams)):\n",
        "    for i in range(len(finalDocs)):\n",
        "      count = 0\n",
        "      for j in range(len(finalDocs[i])):\n",
        "        if finalDocs[i][j] == unique_unigrams[l]:\n",
        "          count = count + 1\n",
        "      termDocument_Matrix[l][i] = count\n",
        "  print(termDocument_Matrix.shape)\n",
        "  # calculate df for each term\n",
        "  df_list = list()\n",
        "  for i in range(len(unique_unigrams)):\n",
        "    countdocuments = 0\n",
        "    for j in range(len(doc_ids)):\n",
        "      if termDocument_Matrix[i][j] > 0:\n",
        "        countdocuments = countdocuments + 1\n",
        "    df_list.append(countdocuments)\n",
        "  # calculate IDF for each term\n",
        "  for i in range(len(unique_unigrams)):\n",
        "    for j in range(len(doc_ids)):\n",
        "      idf = len(doc_ids) / df_list[i]\n",
        "      termDocument_Matrix[i][j] = termDocument_Matrix[i][j] * (math.log10(idf))\n",
        "  print(termDocument_Matrix.shape)\n",
        "  return df_list,unique_unigrams,termDocument_Matrix"
      ],
      "execution_count": 25,
      "outputs": []
    },
    {
      "cell_type": "code",
      "metadata": {
        "colab": {
          "base_uri": "https://localhost:8080/"
        },
        "id": "TUFwR9JdCsb8",
        "outputId": "a43041f8-e163-4877-8458-598a084ac4e1"
      },
      "source": [
        "df_list,unique_unigrams,termDocument_Matrix=createTermDocumentMatrix()"
      ],
      "execution_count": 26,
      "outputs": [
        {
          "output_type": "stream",
          "text": [
            "[]\n",
            "['experimental', 'investigation', 'aerodynamics', 'wing', 'slipstream', '.', 'study', 'propeller', 'wa', 'made', 'order', 'determine', 'spanwise', 'distribution', 'lift', 'increase', 'due', 'different', 'angle', 'attack', 'free', 'stream', 'velocity', 'ratio', 'result', 'intended', 'part', 'evaluation', 'basis', 'theoretical', 'treatment', 'problem', 'comparative', 'span', 'loading', 'curve', ',', 'together', 'supporting', 'evidence', 'showed', 'substantial', 'increment', 'produced', '/destalling/', 'boundary-layer-control', 'effect', 'integrated', 'remaining', 'subtracting', 'destalling', 'found', 'agree', 'well', 'potential', 'flow', 'theory', 'empirical', 'specific', 'configuration', 'experiment', 'simple', 'shear', 'past', 'flat', 'plate', 'incompressible', 'fluid', 'small', 'viscosity', 'high-speed', 'viscous', 'two-dimensional', 'body', 'usually', 'necessary', 'consider', 'curved', 'shock', 'wave', 'emitting', 'nose', 'leading', 'edge', 'consequently', 'exists', 'inviscid', 'rotational', 'region', 'boundary', 'layer', 'situation', 'arises', 'instance', 'hypersonic', 'somewhat', 'prandtl', \"'s\", 'classical', 'boundary-layer', 'original', 'outside', 'irrotational', 'must', 'considered', 'possible', 'vorticity', 'recently', 'discussed', 'ferri', 'libby', 'present', 'paper', 'investigated', 'shown', 'treated', 'approximation', 'novel', 'feature', 'ha', 'constant', 'discussion', 'restricted', 'steady', 'equation', 'presented', 'pressure', 'gradient', 'approximate', 'solution', 'laminar', 'boundary-', 'thickness', 'skin', 'friction', 'obtained', 'karman-pohlhausen', 'technique', 'comparison', 'uniform', 'also', 'show', 'one-dimensional', 'transient', 'heat', 'conduction', 'double-layer', 'slab', 'subjected', 'linear', 'input', 'time', 'internal', 'analytic', 'composite', 'exposed', 'one', 'surface', 'triangular', 'rate', 'type', 'heating', 'may', 'occur', 'example', 'aerodynamic', 'multilayer', 'recent', 'contribution', 'reader', \"'\", 'forum', 'wassermann', 'gave', 'temperature', 'double', 'face', 'insulated', 'thermal', 'resistance', 'interface', 'three', 'particular', 'cases..', 'propose', 'give', 'general', 'indicate', 'briefly', 'using', 'method', 'reference', '2', 'point', 'given', 'incomplete', 'longer', 'duration', 'controlled', 'three-dimensional', 'roughness', 'transition', 'supersonic', 'speed', 'performed', '12-in', 'wind', 'tunnel', 'jet', 'propulsion', 'laboratory', 'california', 'institute', 'technology', 'investigate', 'element', '(', 'sphere', ')', 'tained', 'local', 'mach', 'number', '1.90', '2.71', '3.67', 'varying', 'trip', 'size', 'position', 'spacing', 'reynolds', 'per', 'inch', '1', 'turbulent', 'induced', 'begin', 'row', 'spiral', 'vortex', 'trailing', 'contaminates', 'break', 'surrounding', 'field', 'appears', 'rather', 'suddenly', 'becoming', 'violent', 'increasing', 'height', 'relative', '3', 'breakdown', 'strength', 'still', 'persist', 'sublayer', 'ensuing', '4', 'lateral', 'little', 'upon', 'initial', 'contamination', '5', 'u', 'v', 'kinematic', 'outer', 'k', 'occurs', 'varies', 'one-fourth', 'power', 'viz.', 'x', 'measurement', 'h.', 'l.', 'dryden', 'available', 'data', '/trip', 'wire/', 'could', 'represented', 'reasonably', 'term', 'functional', 'relation', 'based', 'distance', 'displacement', 'suggestion', 'additional', 'primarily', 'extend', 'range', 'higher', 'value', 'course', 'conducted', 'national', 'bureau', 'standard', 'two-', 'dimensional', 'appeared', 'desirable', 'see', 'whether', 'would', 'behave', 'way', '5.8', '26', 'in.', 'galcit', 'nominal', 'phosphorescent', 'lacquer', 'used', 'detection', 'good', 'agreement', 'total-head', 'rake', 'along', 'pitot', 'survey', 'least', '10', 'transverse', 'caused', 'sidewall', 'originated', 'far', 'downstream', '1.5', 'spread', 'compared', '9', 'degree', 'low-speed', 'disturbance', 'air', 'injection', 'mean', 'hastening', 'extensively', 'although', 'onset', 'occurred', 'low', 'fully', 'developed', 'much', 'regardless', 'amount', 'injected', 'qualitative', 'emphasis', 'possibility', 'greater', 'stability', 'lower', 'direct', 'skin-friction', 'floating', 'verified', 'complete', 'earlier', 'coefficient', 'approximately', '0.40', 'r', '0.46', 'effective', '6', 'impact', 'tube', 'analysis', 'free-stream', 'density', 'extremely', 'differ', 'appreciably', 'corresponding', 'continuum', 'similar', 'compressible', 'mixing', 'many', 'practical', 'interest', 'wherein', 'stagnation', 'mix', 'another', 'majority', 'interaction', 'two', 'take', 'place', 'presence', 'axial', 'characteristic', 'influence', 'significantly', 'performance', 'device', 'phenomenon', 'cited', 'program', 'research', 'carried', 'polytechnic', 'brooklyn', 'structural', 'aerelastic', 'consideration', 'high', 'flight', 'dominating', 'factor', 'design', 'aircraft', 'aeroelastic', 'origin', 'subject', 'matter', 'concerned', 'largely', 'interrelation', 'summary', 'analytical', 'tool', 'aeronautical', 'engineer', 'meet', 'demand', 'structure', 'state', 'art', 'respect', 'transfer', 'mode', 'failure', 'combined', 'load', 'acrothermoelasticity', 'attacking', 'alleviating', 'summarized', 'finally', 'avenue', 'fundamental', 'suggested', 'similarity', 'law', 'stressing', 'heated', 'differential', 'large', 'proper', 'modification', 'isothermal', 'fact', 'lead', 'stress', 'calculated', 'measured', 'strain', 'unheated', 'series', 'called', '/similarity', './', 'application', 'analog', 'solid', 'detail', 'however', 'complicated', 'involves', 'concept', 'feedback', '/body', 'force/', 'box-wing', 'solved', 'piston', '-', 'new', 'aeroelastician', 'representative', 'described', 'illustrate', 'extent', 'simplification', 'unsteady', 'achieved', 'use', 'certain', 'known', 'collectively', '/piston', 'physical', 'model', 'originally', 'proposed', 'hayes', 'lighthill', 'airfoil', 'finite', 'systematically', 'landahl', 'utilizing', 'expansion', 'inverse', 'negligible', 'predicts', 'point-function', 'relationship', 'normal', 'component', 'motion', 'computation', 'generalized', 'force', 'flutter', 'determinant', 'always', 'reduced', 'elementary', 'integration', 'assumed', 'essentially', 'closed-form', 'bending-', 'torsion', 'control-surface', 'property', 'typical', 'section', 'exact', 'wherever', 'fairly', 'moreover', 'demonstrate', 'increasingly', 'important', 'profile', 'shape', 'grows', 'larger', 'discovery', 'almost', 'impossible', 'complexity', 'analyses-e.g.', 'panels-is', 'substantially', 'iterative', 'procedure', 'outlined', 'improved', 'eigenvalue', 'successive', 'introduction', 'higher-order', 'reviewed', 'including', 'gust', 'response', 'rapid', 'maneuver', 'elastic', 'steady-state', 'calculation', 'slight', 'ackeret', 'formula', 'regarding', 'future', 'area', 'computational', 'labor', 'minimum', 'loss', 'precision', 'pointed', 'zone', 'appreciable', 'nonlinear', 'neglected', 'logical', 'estimating', 'analyzing', 'aerodynamic-', 'thermoelastic', 'panel', 'buckled', 'deviation', 'flatness', 'static', 'across', 'raise', 'critical', '/reduced', 'applicability', 'galerkin', 'linearized', 'unbuckled', 'questioned', 'several', 'author', 'condition', 'formulated', 'form', 'integral', 'numerically', 'iteration', 'matrix', 'thus', 'avoiding', 'constraint', 'bending', 'rigidity', 'confirm', 'limiting', 'amplitude', 'transformation', 'equivalent', 'demonstrated', 'analytically', 'first', 'stewartson', 'except', 'explicit', 'required', 'key', 'function', 'include', 'fluctuating', 'postulate', 'apparent', 'associated', 'elemental', 'mass', 'remains', 'invariant', 'rise', 'causing', 'separation', 'transformed', 'experimentally', 'independently', 'reported', 'self-preserving', 'remark', 'eddy', 'connection', 'wake', 'behind', 'missile', 'space', 'vehicle', 'division', 'electric', 'company', 'desired', 'estimate', 'axisymmetric', 'lack', 'applicable', 'make', 'rationally', 'extending', 'case', 'extension', 'applied', 'infinitesimal', 'mager', 'partial', 'validity', 'assumption', 'established', 'diffuser', 'radial', 'compressor', 'note', 'discus', 'impeller', 'wheel', 'guide', 'vane', 'arranged', 'circular', 'radius', 'fig', 'start', 'circle', 'direction', 'vector', 'prescribed', 'gas', 'i.e.', 'zero', 'infinity', 'fulfilled', 'develop', 'conical', 'work', 'without', 'symmetry', 'presently', 'yet', 'derived', 'elliptical', 'cone', '=', 'approach', 'generalised-newtonian', 'generalizes', 'lee', 'amr', '1957', 'rev', '2601', 'newtonian', 'blunt-nose', 'apply', 'pointed-', 'expressed', 'sin', 'inclination', 'subscript', '/max/', 'refers', 'maximum', 'reverts', 'generalized-newtonian', 'superiority', 'correlated', 'generalization', 'figure', 'support', 'independence', 'correlation', 'variation', 'parameter', 'd1', 'reviewer', 'belief', 'engaged', 'development', 'hardware', 'slip', 'considers', 'perturbation', 'usual', 'studies.dash', 'e.g.', 'impulsive', 'infinite', 'slip-flow', 'assuming', 'energy', 'valid', 'taking', 'account', 'jump', 'moving', 'rarefied', 'path', 'appropriate', 'maslen', 'expression', 'j.', 'aero', 'sci', '25', '400-401', 'june', 'slipping', 'behavior', 'confirms', 'knudsen', 'cylinder', 'exterior', 'parallel', 'axis', 'differs', 'blasius', 'considering', 'curvature', 'plane', 'heat-transfer', '0.715', 'evaluated', 'magnitude', 'significant', 'recovery', 'quantity', 'insensitive', 'dissociated', 'external', 'diffusion', 'atom', 'recombination', 'included', 'exactly', 'set', 'ordinary', 'even', 'chemical', 'reaction', 'proceed', 'slowly', 'thermochemical', 'equilibrium', 'numerical', 'nonequilibrium', 'entering', 'formulation', 'depend', 'critically', 'catalytic', 'noncatalytic', 'wall', '/frozen/', 'slow', 'fast', 'introduced', 'interpret', 'scale', 'involved', 'relating', 'concluded', 'computed', 'accurately', 'unaffected', 'provided', 'lewis', 'near', 'unity', 'blunt-nosed', 'slender', 'drag', 'blunt', 'afterbody', 'contained', 'right', 'nearly', 'dimension', 'exhibit', 'directly', 'analogous', 'intense', 'blast', 'g.', 'i.', 'taylor', 's.', 'c.', 'lin', 'a.', 'sakurai', 'hammitt', 'va', 'bogdonoff', 'helium', 'shock-wave', 'predicted', 'le', 'satisfactory', 'hemisphere-cylinder', 'closely', 'junction', 'detailed', 'class', 'revolution', 'entire', 'geometry', 'find', 'generated', 'growth', 'leading-edge', 'diameter', 'replaced', '1,700', '20', 'respectively', 'forward', 'portion', 'blunt-', 'nosed', 'relatively', '/far', 'downstream/', 'over-pressure', 'taken', 'current', 'inviscid-viscous', 'led', 'realization', 'purpose', 'aid', 'aerodynamieist', 'frame', 'faster', 'examined', 'view', 'dynamic', 'small-disturbance', 'basic', 'cause', 'limit', 'noted-namely', 'fall', 'whose', 'explosion', 'sedov', 'probstein', 'constant-energy', 'inquire', 'einbinder', 'various', 'doe', 'mention', 'interesting', 'convergence', 'nonuniform', 'difficult', 'non-', 'exhibited', 'expect', 'determination', 'simulate', 'whole', 'built-', 'variety', 'convective', 'side', 'representing', 'thick', 'resulting', 'inducing', 'restraint', 'environment', 'linearly', 'period', 'acceleration', 'information', 'second', 'wide-flanged', 'i-beam', 'flange', 'wide', 'beam', 'length', 'determined', 'photo-thermoelastic', 'multiweb', 'photothermoelastic', 'long', 'literature', 'utilized', 'dimensionless', 'biot', 'revealed', 'observed', 'center', 'web', 'major', 'source', 'discrepancy', 'traced', 'employed', 'buckling', 'analyzed', 'multicellular', 'criterion', 'cover', 'descending', 'atmosphere', 'computing', 'rapidly', 'ballistic-type', 'separated', '/static/', 'trajectory', '/rotational/', 'describing', 'oscillatory', 'gravity', 'allows', 'written', 'manner', 'undamped', 'oscillating', 'spring', 'system', 'equal', 'variable', 'obtain', 'envelope', 'damping', 'prospect', 'magneto-aerodynamics', 'electrically', 'conducting', 'magnetic', 'probable', 'significance', 'magneto-aerodynamic', 'conductivity', 'pure', '/seeded/', 'formed', 'studied', 'magneto-hydrodynamic', 'magneto-', 'gasdynamic', 'poiscuille', 'liquid', 'quasi-one-dimensional', 'electrical', 'last', 'attractive', 'deceleration', 'subsonic', 'constant-area', 'channel', 'characteristically', 'regime', '/significant', 'speeds/', 'dependent', 'chart', 'constructed', 'relate', 'maximum-acceleration', 'advantage', 'accrue', 'sufficiently', 'justify', 'considerable', 'engineering', 'among', 'unsolved', 'reduction', 'electrode', 'contact', 'seeding', 'provision', 'constant-temperature', 'magneto-gasdynamic', 'investigating', 'continuous', 'plasma', 'accelerator', 'crossed', 'advantageous', 'hand', 'duct', 'serve', 'nontrivial', 'sort', 'resler', 'sears', 'sought', 'possessing', 'sufficient', 'algebraic', 'simplicity', 'physically', 'reasonable', 'since', 'cooling', 'likely', 'provide', 'gaseous', 'following', 'paragraph', 'devised', 'yield', 'symmetric', 'slightly', 'hence', 'constructing', 'giving', 'detachment', 'herein', 'represent', 'better', 'conclusion', 'refinement', 'around', 'useful', 'facing', 'familiar', 'practice', 'calculate', 'nonviscous', 'perhaps', 'open', 'question', 'derivative', 'seems', 'therefore', 'inevitable', 'proceeds', 'need', 'accurate', 'either', 'predict', 'happen', 'unfamiliar', 'extrapolation', 'test', 'forebody', 'practically', 'independent', 'sonic', 'line', 'furthermore', 'material', 'conjunction', 'conventional', 'wind-tunnel', 'supply', 'prediction', 'mixed', 'subsonic/supersonic', 'derive', 'semiempirical', 'scheme', 'transonic', 'separately', 'linked', 'mechanism', 'introducing', 'near-sonic', 'indicates', 'determining', 'pattern', 'suggests', 'domain', 'simple-wave', 'arising', 'reflected', 'change', 'slope', 'compressive', 'quantitatively', 'uncambered', 'superimposed', '1.97', 'smooth', 'level', 'supply-stream', 'turbulence', '0.4', 'cent', 'single-element', 'fixed', 'location', 'optically', 'magnified-schlieren', 'definitely', 'delayed', 'promoted', 'depending', 'adverse', 'increased', 'decrease', 'moderate', '1.76', 'hot-wire', 'anemometer', 'principal', 'nature', 'interpreted', 'light', 'overall', 'fruitful', 'drawn', 'gyroscopic', 'rigid', 'rotating', 'engine', 'vibration', 'flexibly', 'mounted', 'ask', 'vibratory', 'flexibility', 'whirling', 'mount', 'thought', 'horizontal', 'cantilevered', 'vertical', 'infinitely', 'horizontally', 'vibrated', 'moment', 'resultant', 'pitching', 'produce', 'yaw', 'engine-mount', 'stiffness', 'tical', 'play', 'role', 'undergoes', 'tip', 'cantilever', 'disc', 'divided', 'four', 'deal', 'gyroscope', 'studies-experimental', 'photographic', 'end', 'coupled', 'engine-propeller', 'airplane', 'consists', 'showing', 'materially', 'affect', 'frequency', 'subsequent', 'decreasing', 'wall-', 'to-ambient', 'argued', 'effectiveness', 'explain', 'transition-reversal', 'nominally', 'reversal', 'eter', 'undisturbed', 'station', 'submitted', 'evaluating', 'opposite', 'tip-bluntness', 'm=6.85', 'characteristies', 'blunted', 'standpoint', 'contemplated', 'reduce', 'mainly', 'actual', 'beneficial', 'blunting', 'received', 'necessarily', 'tangent', 'let', 'say', 'total', 'head', 'situated', 'quite', 'blunter', 'spherical', 'conceivably', 'heat-', 'examine', 'porous', '0', 'suction', 'gupta', 'convection', 'g', 'unit', 'acting', 'negative', 'x-direction', 'semi-', 'addition', 'obvious', 'sense', 'provides', 'magnetohydrodynamic', 'electromagnetic', 'freedom', 'excessive', 'charge', 'ii', ':', 'cavity', 'describes', 'notch', 'observation', 'include..', 'visualization', 'spark-', 'schlieren', 'picture', 'fluctuation', 'placed', 'length-to-depth', 'oncoming', 'depth', 'to-momentum', 'varied', 'comment', 'inversion', 'matric', 'published', 'journal', 'statement', 'bring', 'attention', 'shed', 'hopeless', 'above-', 'mentioned', 'intimate', 'low-aspect-ratio', 'complex', 'low-', 'aspect-ratio', 'arbitrary', 'orientation', 'member', 'permit', 'idealized', 'network', 'flexural', 'interconnected', 'box', 'expressing', 'deflection', 'requirement', 'slope-compatibility', 'product', 'column', 'assembled', 'transferred', 'step', 'by-step', 'fashion', 'accomplished', 'multiplication', 'square', 'composed', 'final', 'operation', 'unknown', 'electric-analog', 'favorable', 'm.i.t', 'table', 'entropy', 'shocked', 'windward', 'meridian', 'difference', 'tend', 'enables', 'veiocity', 'axially', 'special', 'crocco', 'inferred', 'within', 'considerably', 'effort', 'generality', 'readily', 'mathematical', 'surface-temperature', 'approximated', 'polynomial', 'applying', 'depends', 'entirely', 'approximating', 'surface-', 'worked', 'illustrates', 'positively', 'negatively', 'anomaly', 'attributed', 'customary', 'definition', 'fundamentally', 'inappropriate', 'calculating', 'net', 'completely', 'incorrect', 'brief', 'facilitate', 'collected', 'entitled', '/practical', 'thin', 'solve', 'simultaneous', 'momentum', '0.75', 'held', 'sutherland', 'viscosity-temperature', 'starting', 'ambient', '-67.6', 'f', 'main', 'wall-to-free-stream', 'ability', 'withstand', '..', 'thermally', 'correctly', 'angular', 'requiring', 'flux', 'aerodynamically', 'simulation', 'deformation', 'camber', 'chord', 'control', 'carry', 'store', 'quasi-steady', 'previously', 'tested', '1.3', '3.0', 'flat-plate', '60', '45', 'delta', 'untapered', 'sweptback', 'cylindrical', 'ogive-cylinder', 'shadowgraph', 'scope', 'encompassed', '2.06', '4.24', '60,000', '400,000', 'adiabatic', '0.35', '1.0', 'wall-cooling', 'great', 'attached', 'upstream', 'cooled', 'reattachment', 'otherwise', 'resonance', 'accompanied', 'extended', 'sixth-degree', 'accuracy', 'short', 'seventh-degree', 'fourth-degree', 'adequate', 'stabilization', 'proportional', 'locating', 'throughout', 'tsien', 'comparing', 'making', 'fineness', 'applies', 'ogive', '12', 'wider', 'might', 'expected', 'derivation', 'single', 'similarly', 'shaped', 'combination', 'defined', 'rule', 'rotation', 'technical', '2250', '1950', 'related', 'error', 'ignoring', 'neglect', 'k=0.5', '30', 'percent', 'k=2.0', '0.5', 'sharp', '15', 'half-angle', '3.86', '100', 'modified', '14', 'combining', '8', 'noted', 'attainment', 'immediately', 'orifice', 'indicated', 'true', 'width', 'one-tenth', 'laminar-boundary', 'pohlhausen', 'falkner', 'skan', 'main-stream', '58', 'picard', 'euler', 'nondimensional', 'pressure-gradient', 'stagnation-point', 'impermeable', 'five', 'uncooled', 'ture', 'weight-flow', 'tabulated', 'nusselt', 'estimation', 'rolling', 'tail', 'theoretically', 'slender-tail', 'arrangement', 'performing', 'conformal-transformation', 'utilization', 'boundary-value', 'often-used', 'report', 'importance', 'wing-tail', 'interference', 'illustrated', 'quoted', 'consistent', 'admits', 'absolute', 'twice', 'unique', 'family', 'identified', 'viscid', 'remainder', 'exceed', 'analogy', '7.4', '2.8', 'self-induced', '-semivertex-angle', '3.7', 'viscous-interaction', '2.3', 'talbot', 'rameter', '3.5', 'ideal', 'taylor-maccoll', 'c', 'chapman-rubesin', 'inviscid-flow', 'oblique', 'impingement', 'weak', 'move', 'sound', 'refracts', 'isentropic', 'attenuating', 'incident', 'stationary', 'reflects', 'incidence', 'spatial', 'sinusoidal', 'fourier', 'treat', 'passage', 'refraction', 'generation', 'acoustically', 'noise', 'joint', 'skin-stiffener', 'winglike', 'electronic', 'analyzer', 'interior', 'average', 'peak', 'stiffener', 'greatly', 'moderately', 'traversing', 'ascending', 'traverse', 'skip', 'recur', 'distinguishing', 'appearance', 'bessel', 'trigonometric', 'oscillation', 'aspect', 'air-helium', 'illustration', 'employ', 'medium', 'imperfect-gas', 'compiled', 'simulating', 'transforming', 'oblique-', 'normal-shock', 'continuity', 'suitably', 'chosen', 'volume', 'entry', 'high-drag', 'capsule', 'capable', 'providing', 'real-gas', 'supercritical', 'exist', 'drag-divergence', 'crest', 'chordwise', 'estimated', 'satisfactorily', 'prandtl-glauert', 'whereby', 'diverse', 'thickness-chord', 'advancing', 'bounded', 'identical', 'impulsively', 'becomes', 'progressively', 'strong', 'laminar-boundary-layer', 'turbulent-boundary-layer', 'semi-infinite', 'seventh-power', 'accounted', 'compressibility', 'permitted', 'thermal-boundary-layer', 'chief', 'governing', 'encountered', '/viscous', 'solutions/', 'indeed', 'latter', 'actually', 'simplified', '/inviscid', 'tietjens', 'enter', 'emphasized', 'gain', 'sign', 'rayleigh-tollmien', 'vanishes', 'exceeding', '1-1/m', 'turbulen', 'coundary', 'interferometric', '0.50', '1.77', 'cold', 'acoustic', 'fatigue', 'pertaining', 'powerplants', 'common', 'random-', 'discrete-type', 'regard', 'life', 'stiffening', 'particularly', 'fighter', 'flying', 'altitude', '10,000', '20,000', 'apparatus', 'measure', 'record', 'output', 'microphone', 'forward-fuselage', 'mean-velocity', 'total-pressure', 'root-mean-square', 'longitudinal', 'turbulent-velocity', 'turbulence-intensity', 'root', 'wall-pressure', 'q', 'fuselage-section', 'probably', 'unduly', 'affected', 'hypervelocity', 'long-range', 'powered', 'unpowered', 'present-day', 'rocket', 'motor', 'characterized', 'return', 'earth', 'ballistic', 'glide', 'senior', 'studying', 'naca', 'tn', '4047', 'exception', 'radiant', 'efficient', 'generally', 'requires', 'highest', 'attain', 'disadvantage', 'offset', 'reducing', 're-entry', 'artifice', 'kinetic', 'minimizing', 'coolant', 'developing', 'lift-drag', 'neighborhood', 'superior', 'convert', 'convected', 'compensating', 'radiated', 'back', 'kept', 'comparable', 'converting', 'precession', 'instability', 'precession-type', 'supported', 'aircraft-engine-propeller', 'comprised', 'power-plant', 'pitch', 'backup', 'neutral', 'examines', 'sensitivity', 'asymmetry', 'airspeed', 'thrust', 'ax', 'strongly', 'trend', 'consistently', 'evidently', 'tends', 'add', 'extreme', 'finish', '3.12', 'foot', '15x10', 'previous', 'ranging', '1250', 'microinches', 'decreased', 'disappear', 'bluntness', 'distributed', 'langley', '4-foot', '1.61', '2.01', 'granular-type', 'particle', 'transition-triggering', 'spot', 'initiated', 'top', 'existing', 'disk', 're-examined', 'dissipation', 'inaccuracy', 'corrected', 'distortion', 'coordinate', 'multiplicative', 'torque', 'rotate', 'ablation', 'glass-type', 'protection', 'shield', 're-entering', 'irbm', 'melting-type', 'employing', 'homogeneous', 'opaque', 'nondecomposing', 'glass', '0.635', '124.9', 'km', '4.5', '36', 'corollary', 'realistic', 'employment', 'light-weight', 'hypothetical', 'diffusivity', 'radiative', 'steep', 'penetration', 'monotonically', 'affecting', 'emissivity', 'supposedly', 'exert', 'comparatively', 'disregarding', 'solar', 'proton', 'event', 'manned', 'international', 'geophysical', 'year', 'igy', 'cooperation', 'igc', 'fraction', 'flare', 'reach', 'continue', 'arrive', '11', 'day', 'lie', 'spectrum', '500', 'mev', 'activity', 'owing', 'emission', 'detectable', 'intensity', '1960', 'accelerated', 'released', 'three-year', 'began', 'august', '22', '1958', 'contributed', 'toward', 'understanding', 'terrestrial', 'sequence', 'identification', 'emitted', 'recognized', 'radiation', 'hazard', 'july', '1959', 'predicting', 'became', 'human', 'forecasting', 'clearly', 'scientific', 'preliminary', 'arrival', 'equally', 'penetrating', 'unlikely', 'localized', 'plug', 'coaxial', 'centerline', '6.0', '1,600', 'r.', '600', 'psia', 'establish', 'prevails', 'efficacious', 'trail', 'left', 'ionization', 'dissociation', 'process', 'go', 'completion', 'observable', 'trails-i.e.', 'reflection', 'simplify', 'expansion-controlled', 'decay', 'principally', 'conduction-controlled', 'cool', 'away', 'high-temperature', 'core', 'observables', 'assume', 'thermodynamic', 'map', 'electron', 'widen', 'vary', '15,000', '35,000', 'ft', 'sec', '100,000', '250,000', 'inviscid-incompressible', 'peripheral', 'proximity', 'ground', '/exact/', 'issuing', 'symmetrically', 'hovering', 'aerial-ground', 'insofar', 'simplifying', 'obtaining', 'hydrodynamical', 'augmentation', 'free-convection', 'semi-incompressible', 'pipe', 'liquid-metal', 'parallel-plate', 'hartmann', 'fourth', 'grashof', 'buoyant', 'submerged', 'open-ended', 'located', 'volumetric', 'article', 'blunt-base', 'cutout', 'ahead', 'existence', 'describe', 'free-shear', 'depression', 'beyond', 'collapse', 'leaving', 'mutually', 'protrusion', 'laminar-turbulent', 'pertinent', 'inner', 'recompression', 'thicken', 'layer-free', 'governs', 'bend', 'inward', 'gradually', 'floor-pressure', 'pronounced', 'mach-number', 'blunt-body', 'throat', 'spanning', 'supersonic-wake', 'rely', 'principle', 'conservation', '0.3', 'periodic', 'two-layer', 'feasibility', 'insulating', 'barrier', 'protect', 'propellant', 'atmospheric', 'environmental', 'completed', 'grober', 'title', 'stonecypher', 'finding', 'perfect', 'ago', 'drew', 'page', 'heat-input', 'pulse', 'like', 'transmission', 'capacitance', 'redundant', 'digital', 'computer', 'large-scale', 'currently', 'feasible', 'modern', 'capability', 'opportunely', 'urgent', 'hopelessly', 'capacity', 'desk', 'difficulty', 'shifted', 'tedious', 'adequately', 'peculiarity', 'irregular', 'geometrical', 'handled', 'organization', 'handling', 'subroutine', 'formation', 'plasticity', 'minimum-size', 'philosophy', 'cutting', 'statically', 'determinate', 'gained', 'plane-load', 'pressurized', 'fuselage', 'wing-fuselage-shell', 'intersection-type', 'review', 'none', 'reason', 'plausible', 'simpler', 'others', 'forth', 'solving', 'full', 'medium-sized', 'detached', 'conic', 'busemann', 'mangler', 'reducible', 'asymptotic', 'differentiates', 'behaves', 'zeroth', 'exponent', 'n', 'satisfy', 'meaning', 'derivable', 'first-order', 'correction', 'become', 'delay', 'hoff', 'torda', 'cap', 'spar', 'graph', 'especially', 'attempt', 'reanalyze', 'correlate', 'reanalysis', 'representation', 'roghness', 'plot', 'rough', 'height-thickness', 'airstream', 'air-foils', 'dissipative', '/model', '/', '/outer/', 'regarded', 'properly', 'nonuniformity', 'transport', 'basically', 'shockwave', 'blunt-based', 'base', 'overexpanded', 'nozzle', 'etc', 'von', 'karman', 'explicitly', 'statistical', 'interested', 'o.', 'so-called', 'objective', 'establishment', 'e.g', 'i.e', 'conception', '/correlation/', 'paramount', 'late', 'friedman', 'tried', 'introduce', 'hydrodynamic', 'equations.', 'success', '/isotropic/', 'able', 'windstream', 'producing', 'raised', 'done', 'country', 'fage', 'townend', 'simmons', 'england', 'problems..', 'isotropic', 'includes', 'isolation', 'plant', 'originating', 'transmitted', 'action', 'adjacent', 'unbalanced', 'mounting', 'preponderance', 'occasionally', 'shorten', 'psychological', 'physiological', 'attendant', 'passenger', 'crew', 'intimately', 'desirability', 'drastically', 'hardly', 'limited', 'flexible', 'easily', 'temperatures..', '/very', 'fast/', 'streamlines.', 'b', 'rate-governing', 'slow/', 'streamlines', 'enthalpy', 'sensitive', 'nondimensionalized', '/classical/', 'unyawed', 'hemisphere', 'capped', 'segment', 'rate-controlling', 'specie', 'schmidt', 'similar.', 'alone', 'by..', 'no./schmidt', 'atom-molecule', 'collision', 'cross', '1.30', 'accepted', 'limitation', 'classification', 'opposed', 'flame', 'idealization', 'potter', 'butler', 'burning', 'extinction', 'premixed', 'heimel', 'analyzable', 'investigates', 'nonconducting', 'act', 'transversely', 'remain', 'perpendicular', 'introduces', 'retarding', 'inductance', 'p', 'successively', 's=1', 's=2', 'etc.', 'log', 'c=euler', 'azimuthal', 'round', 'third', 'compatibility', 'commonly', 'adopted', 'balancing', 'correct', 'fulfillment', 'confluent', 'hypergeometric', 'proved', 'branch', 'physic', 'involving', 'sedimentation', 'isotope', 'protein', 'molecular', 'weight', 'ultracentrifuge', 'discharge', 'frequently', 'six-figure', 'production', 'working', 'inserting', 'grid', 'rod', 'impose', 'graded', 'suitable', 'strictly', 'weakly', 'sheared', 'designed', '0.45', 'close', 'secondary', 'accompanying', '--', 'danger', 'inherent', 'grade', 'tendency', 'dissociating', 'lucid', 'bluff', 'departure', 'promised', 'thermodynamics', 'diatomic', '/ideal', 'gas/', 'vibrational', 'half', 'excited', '7', 'deduced', '/strong-shock/', 'elegant', 'bow', 'typified', 'dismissed', 'lacking', 'favor', 'sometimes', 'corresponds', 'streamline', 'accord', 'concentric', 'freeman', 'newtonian-plus-centrifugal', 'j', '1956', 'automatic', 'hartree-womersley', 'choleski', 'programming', 'neighbourhood', 'goldstein', 'imposed', 'conduct', 'rectangular', 'degenerate', 'surrounded', 'character', 'symmetrical', 'acoustical', 'signal', 'airflow', 'improvement', 'detected', 'signal-to-noise', 'masked', 'additive', 'background', 'autocorrelation', 'crosscorrelation', 'filtering', 'greatest', 'successful', 'turned', 'obtainable', 'correlator', 'averaging', 'scanning', 'db', 'decaying', 'convecting', 'randon', 'lyon', 'random', 'exponentially', 'convect', 'smaller', 'hysteretic', 'lubrication', 'concern', 'lubricant', 'proceeding', 'film', 'hypothesis', 'pointing', 'dependence', 'obtainment', 'bearing', 'm.', 'smith', 'd.', 'fuller', 'elliptic', 'hyperbolic', 'mathieu', 'displaced', 'towards', 'non-uniform', 'minor', 'reached', 'paraboloid', 'stokes', 'substituted', 'navier-stokes', 'paraboloidal', 'non-linear', '0.0001', 'allowance', 'tomotika', 'k.', 'tamada', 'quart', 'appl', 'math', '381-397', '275', 'vicinity', 'converging', 'diverging', 'rejected', 'singularity', 'asymptote', 'meyer', 'asymmetrical', 'consisting', 'van', 'gorcum', 'passive', 'four-pole', 'stratiform', 'idea', 'draw', 'consequence', 'preston', 'measuring', 'furnace', 'namely', 'approaching', 'free-jet', 'stable', 'require', 'best', 'suited', 'evaluate', 'merit', 'isoenergetic', 'constant-pressure', 'conical-flow', 'nonaxisymmetric', 'felt', 'arbitrarily', 'lockheed', 'abbreviated', '/equivalent-cone/', 'determines', 'inconsistent', 'deviate', 'equivalent-cone', 'newtonian-theory', 'nitrogen', 'subtending', 'mach-number-8.0', 'pibal', 'stand-off', 'permitting', 'extrapolated', 'alteration', 'defining', 'boundary-layer-type', 'early', 'prevailing', 'appraised', 'second-order', 'inadequate', 'shock-expansion', 'boattails', 'foreign', '0.7', 'freon-12', 'realized', 'accordance', 'marked', 'natural', 'fair', 'wedge', 'transitional', 'exploratory', 'hot', 'wire', 'flow-visualization', 'agrees', 'chapman', 'gross', 'originate', 'expansion-turning', 'explained', 'twenty-one', 'exit', '1.008', '8.238', 'ten', 'eniac', 'shortest', 'group', 'sample', 'twenty', 'extensive', 'elaborate', 'contour', 'interpolation', '1.479', 'behaviour', 'object', 'coordinate-type', 'uniformly', 'regularity', 'enclosing', 'distinction', 'description', 'matching', 'artificial', 'matched', 'laplace', 'resort', 'worth', 'band', 'cycles/sec', 'one-third', 'octave', 'farther', 'appear', 'association', 'directional', 'diagram', 'quadrupole', 'doppler', 'predominantly', 'orthogonal', 'quadrupoles', 'monopole', 'predominate', 'world', 'governed', 'science', 'hindered', 'understand', 'progress', 'divergence', 'exhausting', 'well-known', 'two-uniform', 'reichardt', 'shearing', 'instead', 'mechanic', '/the', 'conflicting', 'propagation', 'relaxation', 'other/', 'appreciated', 'sir', 'geoffrey', 'essential', 'topic', 'exceptionally', 'clear', 'valuable', 'demonstration', 'progressive', 'burger', 'hopf', 'cole', 'discontinuous', 're-derive', 'whitham', 'union', 'non-plane', 'concludes', 'represents', 'advance', 'finest', 'tribute', 'inspire', '/large/', 'order-of-magnitude', 'convex', 'concave', '/outer', 'edge/', 'positive', 'according', 'regimes..', 'negligibly', 'accountable', 'modified.', 'ludwieg', 'instrument', 'locally', 'embedded', 'ludweig', 'immediate', 'bell-type', 'contoured', 'annular', '/e-d/', 'expansion-deflection', 'deflected', 'radially', 'outward', 'central', 'expanded', 'turning', 'fed', 'appearing', 'stage', 'blade', 'excitation', 'implicit', 'think', 'people', 'justifiable', 'outlet', 'discharging', 'normally', 'match', 'intake', '1000', '50', 'disagreement', 'hurd', 'chesky', 'shapiro', 'plotted', 'closer', 'utilises', 'resting', 'relevant', 'universal', 'non-dimensional', 'recorded', 'truth', 'geometrically', 'confirming', 'doubt', 'correctness', 'already', 'fell', 'centre', 'dynamical', 'hold', 'remote', 'free-flight', 'rocket-borne', 'rocket-launched', 'airborne', 'telemetering', 'tracking', 'calibration', 'bang', 'recording', 'effected', 'knowledge', 'date', 'unswept', 'convenient', 'nomograph', 'graphically', 'interplanetary', 'orbit', 'voyage', 'planet', 'unlimited', 'energy-requirement', 'sum', 'refractory', 'metallic', 'thickness-to-radius', '0.2', 'shielded', 'semi-empirical', 'utilised', 'movement', 'ward', 'slender-body', 'wing-bodies', 'sharp-edged', '/spillage/', 'former', 'discontinuity', 'cross-sectional', 'unchanged', 'reversed', 'winged', 'bear', 'resemblance', 'seen', '?', 'co-ordinated', 'plan', 'straight', 'cross-section', '/descriptively', 'similar/', 'diamond', 'parabolic', 'biconvex', 'though', 'aim', 'seriously', 'slender-wing', 'instructive', 'alternative', \"'displacement\", \"'flow\", \"'equivalent\", \"'velocity\", 'specifying', 'choose', 'external-flow', 'h', 'dy', 'z', 'oseen', 'non-zero', 'singular', 'devising', 'expanding', 'follows', 'separate', 'obstacle', 'believing', \"'stokes\", \"'oseen\", 'polar', 'vanish', 'substitution', 'no-slip', 'uniform-stream', \"'matching\", 'alternately', 'x=0', 'contains', 'steepest', 'descent', 'divergent', 'summed', 'check', 'striking', 'hartree', 'laborious', 'schubauer', 'expanse', 'generates', 'radiates', 'occupying', 'mean-square', 'probability', 'time-derivatives', 'gaussian', 'substituting', 'heisenberg', 'changed', 'widely', 'differing', 'hydrodynamics', 'frictionless', 'exercise', 'immersed', '/resistance/', 'accompany', 'helmholtz', 'seem', 'something', 'disturbed', 'mathematically', 'absence', 'asserted', 'fluid.', 'supposed', 'water', 'alter', 'amenable', 'exceptional', 'discovered', 'belong', '/exceptional', 'abstract', '954', '1938', 'low-turbulence', 'experienced', 'truly', 'edgewise', 'superposed', 'denotes', 'seven', 'eighth', 'ninth', 'roughly', 'unfortunately', 'eight', 'prohibitive', 'retarded', 'replacing', 'circumscribing', 'polygon', 'preceding', 'thereby', 'shallow', 'dealing', 'ship', 'stated', 'deep', 'excess', 'vessel', 'diminishes', 'ultimately', 'shallower', 'refer', 'treatise', 'quotation', '/this', 'trochoidal', 'travelling', 'translation', 'weitbrecht', 'express', 'stating', 'hodographic', 'x-axis', 'specified', 'steadily', 'hodograph', 'passing', 'triple-valuedness', 'single-valued', 'proposes', 'construct', 'regular', 'convergent', 'excluded', 'inverts', 'induction', 'historics', 'eliminating', 'trial-and-error', 'heat-conduction', 'choice', 'modulus', 'insure', 'comprehensive', 'appendix', 'power-law', 'follow', 'ordinate', 'streamwise', 'zero-order', 'nonvanishing', 'framework', 'hypersonic-slender-body', 'm=1', 'riolate', 'write', 'contain', '1.2', 'satellite', 'nonrotating', 'miss', 'misalinement', 'deflecting', 'largest', 'contributing', 'stem', 'retrovelocity', 'opposition', '34.5', 'mile', 'avoided', '120', '150', 'flight-path', 'guidance', 'transform', 'corridor', 'supercircular', 'planetary', 'spacecraft', 'guided', 'accomplish', 'perigee', 'characterizing', 'conveniently', 'prescribing', 'illustrative', 'venus', 'mar', 'jupiter', 'titan', 'nonlifting', 'absorbed', 'single-pass', 'lifting', 'overshoot', 'undershoot', 'broadened', 'markedly', '10-earth-g', '52', '51', 'terminal', 'successfully', 'putting', 'hitting', 'moon', 'achieving', 'icbm', 'fuel', 'orbital', 'heliocentric', 'planeto-centric', 'target', 'saving', 'technologically', 'implies', 'lift-off', 'pair', 'introduring', 'centrifugal', 'disregarded', 'precisely', 'allen', 'egger', 'truncated', 'sanger', 'tolerance', 'trimmed', 'braking', 'slowing', 'escape', 'surface-shear', 'floating-element', 'balance', 'calibrated', 'virtual', 'obtainec', 'million', '0.11', '0.32', 'schultz-grunow', 'kempf', 'schoenherr', '/univeral', 'constants/', 'appraoch', 'asymptotically', 'frictional', 'whereas', 'uncorrected', 'inexpensive', 'slighlty', 'chemically', 'reacting', 'mixture', 'non-heat-conducting', 'occurring', 'non-equilibrium', 'amongst', 'molecule', 'frozen', 'convergent-divergent', \"'reservoir\", 'absorption', 'dispersion', 'concisely', 'harmonic', 'planar', 'corner', \"'oxygen-like\", 'verify', 'prove', 'inert', 'stagnant', 'polyatomic', 'exciting', 'de-exciting', 'via', 'eucken-value', 'exceeded', 'distorting', '/boundary', 'layers/', 'hirschfelder', 'cell', 'reciprocal', 'eucken', 'versus', 'accommodation', 'sudden', 'initially', 'concentrated', 'front', 'propagating', 'whilst', 'commented', 'ideally', 'closed', 'real', 'allow', 'afterflow', 'verifies', 'identifying', 'interacting', 'free-molecule', 'low-density', '1.72', '1.82', '1.78', 'tentative', '/second/', '/bulk/', 'two-thirds', 'propulsion-system', 'installation', 'vital', 'air-induction', 'turbojet', 'jet-exit', 'achieve', 'goal', 'compatible', 'compromise', 'unsatisfactory', 'isolated', 'air-frame', 'designer', 'devoted', 'jet-stream', 'after-body', 'shock-', 'boundary-layer-interaction', 'precise', 'enlightening', 'interchangeable', 'six', '2.0', '0.8', '0.6', 'programme', 'inside', 'supplemented', 'reading', 'photography', 'bleed', 'correlating', 'compare', 'annulus', '9-inch', '1.62', '1.94', '2.41', 'testing', 'artificially', 'rm', 'e53h25', 'systematic', '1.6', 'hole', '0.1875', 'under-expansion', 'axially-symmetrical', '1.40', 'fully-expanded', 'rest', 'shadow', 'spreading', 'gradual', 'unsteadiness', 'correspond', 'half-jet', 'entrainment', 'error-integral', 'dispersed', 'carbon', 'dioxide', 'adjustment', 'excellent', 'shock-tube', 'axially-symmetric', 'sting', 'satisfying', 'accordingly', 'inviscid-fluid', 'partly', 'boat-tailing', 'concerning', 'solides', 'deduction', '12-inch', 'lowest', 'apex', 'tripping', 'probe', 'maxwellian', 'diffuse', 'read', 'arm', 'utia', 'thermo-aeroelastic', 'satisfied', 'obtains', 'carrying', 'layout', 'programmed', 'compressible-flow', 'substitute', 'heavy', 'toxic', 'active', 'freon', 'monatomic', 'nontoxic', 'nonflammable', 'commercially', '63', 'comprising', '21', 'argon', 'krypton', 'xenon', 'gas-mixture', 'specific-heat', 'firing-range', 'arise', 'selecting', 'proportioning', 'posse', 'involve', 'bulk', 'category', 'concocted', 'inasmuch', 'sizeable', 'attributable', 'cone-cylinders', 'thoroughly', 'accumulated', 'height-to-chord', 'compression', 'pressure-distribution', 'shadow-graph', 'oil-film', 'optic', '3.6', '4000', '5000000', 'controlling', '/turbulent/', 'classificaiton', 'literal', 'steadiness', 'dead-air', 'advanced', 'explanation', 'beginning', 'substantiate', 'tnis', 'incidental', 'anh', 'numger', 'blunt-trailing-edge', '29', '0.05', '0.10', 'boattail', '2.9', 'trailing-edge', '1.25', '3.1', 'span-wise', 'unusually', 'hysteresis', 'stroboscopic', 'apparently', 'hydromagnetic', 'help', 'thomas', 'every', 'expressible', 'rearranged', 'spiralling', 'admit', 'sub-core', 'ignored', 'diffusive', 'tabular', 'quantitative', '/similar/', 'keep', 'lengthwise', 'invalid', 'foil', 'analyticially', 'verification', '10-percent-thick', 'slender-airfoil', 'caloric', 'imperfection', 'manifest', 'ideal-gas', 'verfied', '5000', 'rankine', 'counterpart', 'thermal-stress', 'differed', 'duplicating', 'plastic', 'fringe', 'lotz', 'cavitation', '16-foot', 'incremental', '0.60', '1.09', '39', '4.53', 'normal-force', 'subcritical', 'cross-flow', 'existed', 'sting-cone', '120-inch', '1.05', 'rear', 'cowling', 'spinner', 'propeller-research', 'cowling-spinner', '1-series', 'inlet', 'ellipsoidal', 'open-nose', 'lip', 'oval', 'shank', 'extrapolating', 'proportion', 'near-maximum', 'selected', 'inlet-velocity', '0.90', 'wing-aileron-tab', 'tab', 'aileron', 'vortex-sheet', 'reduces', 'aileron-tab', 'approx', 'sealing', 'hinge', 'gap', 'ailcron', 'minus', 'deg', 'plus', '/equivalent', 'profile/', 'suffix', 'cropped', 'full-span', 'constant-chord', 'hinge-moment', 'plunging', 'low-frequency', 'linearised', '1.8', 'taper', 'avaluated', '1.1', '1.15', '1.4', '1.944', 'harmonically', 'torsional', 'enlarge', 'destabilizing', 'reverse', 'stabilizing', 'utilizes', 'smoothing', 'replaces', 'actural', 'kinked', 'stratagem', 'eliminates', 'denote', 'maintained', 'inertial', 'aeroelasticity', 'embrace', 'buffeting', 'airscrew', 'specifically', 'monograph', 'self-contained', 'convenience', 'elsewhere', 'logically', 'bibliography', 'flutter-prevention', 'omitted', 'airloads', 'aerofoil', 'airload', 'analysed', 'text', 'british', '1947', 'sake', 'completeness', 'notation', 'wood', 'swept', 'span-loading', 'examination', 'wing-body', 'sweep', 'afford', 'zero-lift', 'pitching-moment', 'certainty', 'basing', 'adjusting', '0.95', '5.5', '0.53', '64a010', 'quarterchord', '0.85', 'infinite-aspect-ratio', 'yawed', 'wing-section', 'two-dimensional-airfoil', 'inboard', 'disappeared', 'plan-form', 'quality', '20-', '95-percent-semispan', 'juncture', 'preventing', 'footing', 'asymmetric', 'e', 'constraining', 'r.a.e.104', 'screen', 'exponential', 'confirmation', '40', 'german', 'investigator', 'hall', 'ionized', 'anisotropic', 'tensor', 'partially', 'ohm', 'magnetohydrodynamical', 'reveal', 'remarkable', 'anisotropy', 'washing', 'excites', 'promoting', 'running', 'ripple', 'underneath', 'sheet', 'supersonically', 'radiate', 'subsonically', 'adapted', 'noise-free', 'multiple', 'stringer', 'promote', 'standing', 'link', 'kind', 'provisional', 'changing', '1909', 'develops', 'fin', '1917', 'harris', 'incorporates', 'covered', 'operating', 'side-force', 'projected', 'augmented', 'inflow', 'fixed-pitch', 'advance-diameter', 'nd', 'spin', 'dual-rotating', 'single-rotating', 'experience', 'lever', 'cross-coupling', 'possibly', 'therefrom', 'manufacturing', 'maintainance', 'sharp-edge', 'doubling', 'classic', 'rotor', 'turbine', 'circumstance', 'inter-blade', 'concurrently', 'featuring', 'steam-turbine', 'suffer', 'focusing', 'consequent', '140', 'favourably', 'steam', '0.65', '0.92', 'reasoning', 'free-vortex', 'contraction', 'incorporated', 'photograph', 'low-energy', 'liquid-injection', 'bubble', '0.952', 'area-mean', 'optimum', 'cascade', 'manufacture', 'uncertainty', 'overriding', 'closed-jet', 'straight-sided', 'behaved', '19', 'efficiency', '16.6', '0.98', 'conversion', '2.5', 'nevertheless', 'four-hole', 'reliable', 'axial-flow', 'blading', 'highly', 'loaded', 'two-stage', 'single-stage', 'build', 'explore', 'decelerated', 'phase', 'acr', 'l5d20', 'decelerate', 'inefficient', 'started', 'encouraging', 'decelerates', 'enters', 'stator', '80', 'converging-diverging', 'inch-diameter', 'diam', 'proportionally', 'mum', 'correlograms', '/scale/', 'easier', \"'similar\", \"'slice\", 'slice', 'attenuation', 'dominate', 'muffler', 'conversely', \"'fat\", 'contribute', 'powell', 'qualitatively', 'multiple-nozzle', 'corrugated', 'quieting', 'frequency-shifting', 'emerges', 'serious', 'sound-attenuating', 'shroud', 'analogue', 'department', 'aeronautics', 'astronautics', 'decided', 'university', 'later', 'bandwidth', 'amply', 'justified', 'decision', 'axi-symmetrical', 'proposal', 'ensure', 'outstanding', 'designing', 'generalised', 'ascertain', 'smoke', 'attachment', 'upper', 'outboard', 'stanton', 'outline', 'quasi-cylindrical', 'lying', 'quasi', 'circular-cylindrical', 'ring', 'fill', 'intermediate', 'sectional', 'bank', '90', 'angle-of-attack', '16', '8x10', 'distinct', 'visual-flow', 'streamlining', 'crossflow', 'inhibited', 'shift', 'dyke', 'rep.', '962', 'strip', 'improving', 'straight-edged', 'display', 'ridge', 'render', 'value.', 'shall', 'tending', 'cruciform', 'staggered', 'angularly', 'owen', 'maskell', 'r.a.e', 'aero.2441', 'analyse', 'rolled-up', 'sideforce', 'upwash', 'sidewash', 'respective', 'tailplane', 'wing-body-tailplane', 'weapon', 'containing', 'roll-up', 'equipped', 'downwash', 'para.5', 'non-lifting', 'routine', 'tangency', 'tangent-cone', 'conical-shock-expansion', 'maccoll', 'extends', '0.9', 'forebodies', 'afterbodies', \"'quasi-cylinder\", \"'slender-body\", 'reversibility', 'theorem', 'arc', 'noninclined', 'inclined', 'mehtod', '3.00', '6.28', 'non-inclined', 'radian', 'referenced', 'minimisation', 'minimises', 'minimal', 'relaxing', 'restriction', 'evolve', 'indication', 'enough', 'maintain', 'quasi-equilibrium', 'percentage', 'flowing', '/choking/', 'laval', 'code', 'aircraft-type', 'compressors.dash', 'multi-stage', 'outcome', 'instrumentation', 'subsequently', 'endorsed', 'sub-committee', 'collaboration', 'committee', 'weighting', 'recommendation', 'put', 'pitot-static', 'enquiry', 'semi-ellipsoidal', 'no.1', 'no.2', 'r.a.e.', 'believed', 'strut', 'slot', 'measurable', '100-230', 'square-edged', 'rounded', 'enclosed', 'low-velocity', '/dead', 'air/', 'app', 'ied', 'alminar', 'w.', 'tollmien', 'pai', 'asimplified', 'interferometer', 'fitted', 'generator', 'visualisation', 'rendered', 'visible', 'royal', 'society', 'promise', 'denser', 'troublesome', 'deposit', 'improve', 'staff', 'director-general', 'ministry', 'approached', 'oil', 'contrast', 'compact', 'minute', 'run', 'premature', 'bluish', 'white', 'colour', 'dense', 'retains', 'non-corrosive', 'non-irritant', 'smell', 'tolerated', 'concentration', 'condensation', 'precaution', 'trouble', 'dry', 'melting', 'hard', 'wax', 'flocculent', 'passed', 'bore', 'tubing', 'eventually', 'blockage', 'filament', '180', 'ft.', 'said', 'visualising', 'assist', 'interpretation', 'exploration', 'educational', 'flap', '58.1', 'referred', 'hit', 'take-off', 'flapped', 'conformal', 'trefitz', 'unequal', 'circulation', 'theta', 'setting', 'tapered', 'ref', 'centre-section', 'swept-back', 'quickly', 'ellipsoid', 'ducted', '2n', 'spaced', 'thwaites', 'rhombic', 'deuce', 'collection', 'govern', 'short-period', 'hoped', 'expose', 'needed', 'u.k.', 'swept-wing', 'slotted', 'incidence.', 'evident', 'a.r.a', 'perforated', 'fluctuates', 'indicating', 'speed.', 'alleviation', 'open-area', 'whitham-walkden', 'civil', 'aeroplane', 'lb', 'sq.ft', 'acceptable', 'climb', 'afterburning', 'penalty', 'cost', 'minimise', 'summarised', \"'outer\", 'mainstream', 'satisfies', 'townsend', 'analoguous', 'freestream', 'disposable', 'glancing', 'waisted', 'poiseuille', 'couette', 'co-ordinate', 'checked', 'laufer', 'logarithmic', 'rigorous', 'slider', 'mixing-length', 'slider-bearing', 'load-carrying', 'pv', 'rt', 'oxygen', 'composition', '.78847', '.21153', 'interval', '2000', 'presentation', 'co', 'intermolecular', '9.758', 'e.v', '1.45', 'affinity', 'atomic', 'postulated', 'over-all', 'individual', 'axi-symmetric', '1.8x10', 'richmond', '1941', 'circulated', 'defence', 'home', 'security', 'writer', 'told', 'bomb', 'nuclear', 'fission', 'name', 'mechanical', 'explosive', 'confined', 'answer', 'unaccompanied', '.qm', 'declassified', 'superseded', 'publish', 'omission', 'writing', 'worker', 'propagated', 'outwards', 'shell', 'expands', 'till', 'atm.', 'cease', 'atm', 'degraded', 'blast-producer', 'releasing', 'borne', 'instantaneous', 'release', 'meteor', 'shock-induced', 'n.p.l', 'played', 'neumann', 'circulatory', 'solid-body', 'purely', 'ease', 'fredholm', 'seidel', 'programed', 'ibm', '704', 'edpm', '300', 'hour', 'define', 'inversely', 'time-dependent', 'metal', 'non-conducting', 'forced', 'researcher', 'attract', 'gershuni', 'zhukhovitskii', 'ostrach', 'tao', 'matting', 'co-worker', 'insulated-wall', 'unified', 'polished', 'pyrex', 'ellipse-cylinder', 'stagnation-to-wall', 'microinch', 'rms', 'occurrence', '225', '325', 'stagnation-', 'to-wall', '9.5', '29.5', '400', '625', 'nasa', 'hemisphere-cone-cylinder', '350,000', '750,000', 'history', 'deficiency', 'quartz', 'teflon', 'mission', 'returning', 'weighs', '8640', 'kg', 're-enters', '7.7', 'evaporate', 'molten', 'evaporation', 'detrimental', 'prevent', 'lunar', 'exposure', 'mid-course', 'corrective', 'machine', 'exhaust', 'whenever', 'filled', 'lowered', 'exhaust-pressure', 'conservation-of-momentum', 'static-pressure', '1.80', '18', 'static-to-total', 'tangential', 'remained', 'attained', 'took', 'entail', 'fractional', 'overcome', 'hadamard', 'operator', 'semicircular', 'semi-circular', 'lomax', 'heaslet', 'united', 'kingdom', 'version', '36,000', '12,000', 'haag', '91', 'afterbody-jet-nozzle', 'boat-tail', 'base-to-jet', '1.11', '2.67', '3.2', '1.91', 'turn', 'korst', 'child', '/local', 'similarity/', 'fay', 'riddell', 'underestimate', 'twist', 'curling-up', 'poisson', 'arisen', 'roll', 'neater', 'sideslip', 'weissinger', 'rolled', 'rolling-up', 'cruciform-wing', 'equal-span', '4-vortex', 'centroid', 'remarkably', 'tank', 'pas', 'propelled', 'coasting', 'accelerating', 'decelerating', 'intentionally', 'unintentionally', '/canted/', 'magnus', 'misaligned', 'canted', 'misalignment', '/discussion', 'sweepback', 'understood', 'piece-wise', 'rotationally-symmetrical', 'recourse', 'coarse', 'step-by-step', 'falkner-skan', 'one-parameter', 'conservative', 'fails', 'quadrature', 'velocity-distribution', 'slide', '4.', 'advent', 'necessitated', '1-4', 'contrary', '2-5', 'sharp-tip', '13.5', '-340', 'shrouded', 'ninefold', 'consisted', 'spherically', 'reference-enthalpy', '/local/', 'hypersonic-flow', 'persh', \"'qualitatively\", 'alfven', \"'low-beta\", 'unidirectionally', 'effectively', 'hall-current', 'high-beta', 'ionosphere', 'charged', 'interact', 'electrostatically', 'forming', 'excite', 'above-mentioned', 'unidirectional', 'suggest', 'v-shaped', 'responsible', 'anomalous', 'radar', 'echo', 'magnetoaerodynamic', 'fluid-dynamic', 'magnetoacoustic', 'on-coming', 'constitutes', 'alternate', 'deriving', 'orgin', '0.01', 'surprising', 'revealing', 'sharp-cornered', 'partition', 'neglecting', '500degree', '15,000degree', 'mol', 'transparent', '35', '24', 'realistically', 'cold-wall', 'joined', 'continuously', 'arriving', 'ranged', 'erickson', 'mass-transfer', 'zero-', 'heat-insulated', 'rubesin', 'tangent-wedge-approximation', 'dealt', 'analogously', 'li', 'nagamatsu', 'allowing', 'collaborator', 'deficit', 'thn', 'joining', 'interanl', 'hpyersonic', 'warning', 'often', '16-series', '2.4', '-10', 'numerous', 'selection', 'preference', '5.', 'relates', 'advisory', 'fixing', 'naturally', 'minimised', 'excrescence', 'severe', 'fix', 'care', 'interpreting', '0.1', 'thinner', 'inconvenient', 'transition-fixing', 'spurious', 'underlying', 'followed', 'continued', 'broadening', \"an'ideal\", \"dissociating'gas\", 'lighthill/1957/for', 'postulating', 'process/including', 'recombination/', \"the'equilibrium'parameters\", 'receives', 'infinitesimally', 'rankine-hugoniot', 'down-stream', \"the'newtonian'theory\", 'undissociated', 'tracing', 'round-nosed', 'flat-nosed', 'connected', 'variant', 'telegraph', 'wavy', 'viewed', 'three-point', 'univac', 'continuation', 'single-point', 'truncation', 'meksyn', 'shock-generated', 'surprisingly', '.the', '/at', 'vorticity/', 'kemp', 'perfectly', 'power-function', 'cx', 'repetition', 'schuh', 'resolution', 'thereof', 'covering', 'wall-temperature', '-0.0904', 'reveals', '0.254', '0.367', 'forst-order', 'invoked', 'traveling', 'calorically', '0.72', 'homann', 'zamm', 'p.', '153', '1936', 'kinetics', 'emphasizes', 'oversimplification', 'close/', '/intermediate/', 'layer/', '/merged', 'rarefaction', 'conductive', 'hugoniot', 'merged', '/incipient', 'merged/', 'thickened', '/fully', 'obeying', 'incipient', 'falling', 'methanol', 'tetrachloride', 'wave-number', 'cut-off', 'third-order', 'overstability', 'disclose', 'competition', 'drop', 'tension', 'sine', 'fifth', 'similitude', 'small-perturbation', 'removed', 'inspection', 'howorth', 'plate..', 'edge.', '/errors/', 'careful', 'distinctly', 'discernible', 'mass-injection', 'certainly', '8.', 'mil', 'agreed', 'zero-injection', 'disturb', 'mask', 'whatever', 'discrete', 'pore', 'transpiration', 'm=3', '.2.', 'entrance', 'integrate', 'offer', 'linearization', 'converted', 'undetermined', 'shortens', 'influx', 'eliminated', 'transpired', 'ingenious', 'fd', 'terminology', 'objection', '/film', 'cooling/', '/transpiration', 'enjoy', 'usage', 'inaccurate', '/thus', 'threaten', 'enjoys', 'academic', 'serenity', 'broken', 'frustrations/', 'excused', 'poetic', 'license', 'ignores', 'pressing', 'erosive', '/aerothermochemical/', 'effusion', 'blowing', 'overstatement', 'overlook', 'berger', '/contribution', \"l'etude\", 'de', \"l'injection\", 'parietale', 'doctor', 'thesis', 'paris', 'memorial', 'poudres', '38', 'annex', 'imprimerie', 'nationale', 'stimulus', '2.05', 'explored', 'constant-density', 'bulent', 'momentum-integral', 'observing', '2,000', 'momentum-thickness', '1,500', '3,500', 'nine', 'wilson', 'wall-property', 'compressible-fluid', 'incompressible-fluid', 'brought', 'recursion', 'bluntnosed', 'fit', 'perfect-gas', 'isovel', 'jeffrey-hamel', 'nonparallel', 'non-parallel', 'jacobian', 'jeffery-hamel', 'opening', '10degree', 'sweat-cooled', 'dorodnitsyn', 'sweat-cooling', 'protecting', 'inject', 'lightweight', 'protects', 'pass', 'reservoir', 'secondly', 'alters', 'facility', 'erature', 'sperical', '3.75', 'binary', 'super-aerodynamic', 'carter', 'unnecessary', 'prior', 'specular', 'specular-type', 'calculus', 'minimizes', 'likewise', 'shock-separated', 'adjust', 'shock-boundary-layer', 'ogival', 'infer', 'kopal', 'constitute', 'analyze', 'denoted', 'corpuscular', '/newtonian/', 'repeat', 'piercy', 'winny', 'proc', 'roy', 'soc', 'london', 'ser', '1933', 'reissner', 'large-aspect-ratio', 'w', 'stall', 'continually', 'pinkerton', 'kutta-joukowski', 'fictitious', 'generalizing', 'spence', 'potential-flow', 'analysing', 'localize', 'injecting', 'eliminate', 'optical', 'window', 'radome', 'insulates', 'sixth', 'integral-differential', 'two-point', 'tabulation', 'lyapunov', 'the/second', 'method/of', 'exposition', 'to/a/', 'nonslationary', './b/estimation', './c/control-system', 'optimization', './d/design', 'relay', 'servo', 'thorough', 'companion', 'polar-controlled', 'manoeuvre', 'homing', 'cartesian', 'resolve', 'susceptible', 'simulator', 'belotserkovskii', 'surface-pressure', 'connect', 'surface-velocity', 'shock-detachment', 'quasi-spherical', 'prandtl-meyer', 'blast-wave', 'scarce', 'letter', 'bertram', '6.85', 'demarcation', 'expects', 'giese', 'bergdolt', '2.45', 'charter', 'stein', 'imply', 'perturbed', 'mach-zehnder', 'memorandum', 'met', 'geodesic', '2.7', '6.3', '10-', '14-in', 'ames', 'exceeds', 'leeward', 'inquired', 'two-dimensionality', 'answered', 'affirmative', 'zoom', 'optimal', 'maneuvering', 'mayer', 'euler-lagrange', 'afterburner', 'blowout', 'piloting', 'unless', 'mi', 'tsion', 'retained', 'cross-drift', 'determinable', 'howarth', 'rott', 'crabtree', 'stewartson-illingworth', 'x-coordinate', 'unspecified', 'x-transformation', 'constant-property', 'variational', 'nonstationary', 'reverse-flow', 'nonsteady', 'adjoint', 'non-steady', 'us', 'bending-torsion', 'theodorsen', 'diagonal', 'garrick', 'c.g', 're-emphasized', 'seban', 'bond', 'kelly', 'neither', 'recommended', 'defect', 'displayed', 'graphical', 'logarithm', 'compute', 'vanishing', 'semi-convergent', '.they', 'cone-cylinder', 'cone-cylinder-frustum', 'cone-cylinder-frustum-booster', 'cone-frustum', 'booster', 'porous-wall', '/couette-type/', 'rigorously', 'tacitly', 'semiinfinite', 'murray', '1962', '7157', 'mathematics', 'resolved', 'examinable', 'conclusively', 'unbounded', 'obscure', 'anyway', 'panel-flutter', 'advocated', 'stimulated', 'simply', 'elliptically', 'clamped-edge', 'justification', 'rayleigh-type', 'thin-plate', 'midplane', 'elastically', 'restrained', 'heavier', 'clamped', 'nomenclature', 'dana', 'young', 'controversy', 'glauert', 'worthwhile', 'lends', 'drastic', 'temperature-dependent', 'lagrangian', 'formulate', 'simplest', 'treating', 'transit', 'convection-fundamental', 'shortcoming', 'irreversible', 'onsager', 'narrow', '1939', 'antisymmetrical', 'lower-limit', 'multiplier', 'near-spherical', '23,000', 'coupling', 'dissociation-recombination', 'bimolecular-exchange', 'bimolecular', 'exchange', 'post-shock', 'nitrogen-atom', 'freeze', 'infinite-rate', 'dominated', 'two-body', 'scaling', 'magnetohydrodynamics', 'relativistic', 'unrelativistic', 'hoffman-teller', 'interstellar', 'cloud', 'amplified', 'compressional', 'prominence', 'gauss', 'observational', 'necessity', 'mapping', 'joukowski', 'sink', 'incompressible-flow', 'monoxide', 'hydrogen', 'implication', 'considered-dashthat', 'empirical/intermediate', 'enthalpy/used', 'enthalpics', 'nonrigorous', 'noticeable', 'conflict', 'preserving', 'grasshof', 'solves', 'e.', '1.17', '1.81', 'fore', 'concurring', 'decidedly', 'r82', '9.9', '2x10', '100x10', 'equivalence', 'const.', 'intrinsic', 'lock', 'rogers', 'n.p.l.', 'industry', 'cruising', 'unpublished', 'bagley', 'postponing', 'separation-free', 'margin', 'cruise', 'preferred', 'impair', 'landing', 'emphasising', 'embraced', 'high-velocity', 'air-jet', 'stressed', 'neighbouring', 'image', 'counter-rotating', 'leave', 'lose', 'co-rotating', 'assessed', 'avoid', 'cf', '117-142', '218-234', '1945', '7,225,226', 'proof', 'unstable', 'carefully', 'inflection', 'flex', 'converge', 'synge', 'r=5906', 'r=502', 'schlichting', 'r=420', 'r=5314', 'operate', 'stiffened', 'hitherto', 'single-and', 'double-sided', 'originates', 'soon', 'persists', 'induced-pressure', 'yielded', 'enabled', 'biharmonic', 'enforced', 'plied', 'listing', 'intractable', 'spherically-blunted', '97,000', '238,000', '1.064', 'nose-cone', 'spherical-conical', 'returned', '.97', '2.38', 'foredrag', 'nearest', 'dynamic-analogy', 'circuit', 'set-up', 'variable-thickness', 'cal', 'tech', '70', 'variable-geometry', 'adjustable', 'lattice', 'chap', 'book', '/technical', 'gas-dynamics/', '1869', 'list', 'heading', '7-1', 'gasdynamical', '7-2', '7-3', 'electro-hydrodynamic', '7-4', 'joukowsky', '7-5', '7-6', '7-7', '7-8', '7-9', '7-10', '7-11', '7-12', 'impulse', '7-13', '7-14', 'overhang', '7-15', 'quasi-cylinder', 'operational', 'centre-body', 'inadmissable', '/ring-wings/', 'nullify', 'wave-drag', 'nearing', '4ft', '3ft', 'rae', 'bedford', 'high-supersonic-speed', 'humidity', 'm=0', 'flown', '0.84', '1.48', 'definite', 'plausibly', 'simulated', 'intersecting', 'assigned', 'body-diameter-maximum-span', '62', 'dence', 'opposing', '94', 'trailing-vortex', 'line-vortex', 'stepwise', 'triangular-wing', 'cylindrical-body', 'geometric', 'semi-span', 'indetermining', 'crossflow-plane', 'ultimate', 'tail-body', 'semispan', '1.96', '0.36', '1.03', 'side-wash', 'super-satellite', '50,000', 'ft/sec', '/total', 'property/', 'hirshfelder', '/j.chem.phys.,26/2/', 'feb.,1957/', 'tions', '/i/', 'four-component', 'n2', '/ii/', '/iii/', '/iv/', '/v/', 'super', '650', '900', '32,000', '39,000', 'sec.', '1211', 'lindsey', 'daley', 'humphreys', 'abruptly', 'terminated', 'attached-flow', 'compilation', '37', 'variously', 'transonic-flow', 'unseparated', 'stall-flutter', 'm.i.t.-naca', 'oscillator', 'reaffirmed', 'translatory', 'experimenter', 'time-average', 'happened', 'reduced-frequency', 'assortment', 'relative-density', 'flutter-speed', 'midspan', '4412', 'simultaneously', 'variable-density', '54', 'n.a.c.a', '17', '-dash', '20degree', '30degree', '3,000,000', 'kutta', 'one-degree-', 'of-freedom', 'stalled', 'incorporation', 'formal', 'debye', 'ion', 'electrohydrodynamic', 'self-consistent', '/collision-free/', 'boltzmann', 'dielectric', 'magnetic-field-free', 'traversal', \"'exact\", 'inapplicable', 'jastrow', 'pearse', 'questionable', 'permeable', 'permeability', 'removable', 'solely', 'illustrating', '/charge', 'drag/', 'yielding', 'liapunov', 'routh-hurwitz', 'eulerian', 'couple', 'kutta-joukowsky', 'doublet', 'quadruplet', 'aerodynamic-center', 'cornell', 'stol', 'vtol', 're-examine', 'seeking', 'exploited', 'enhance', 'law-speed', 'propeller-driven', 'interacts', 'replacement', 'equate', 'founded', 'considerations.', 'finite-difference', 'collocation', 'lagrange', '/mixed/', 'hyperbolic-trigonometric', 'fewer', 'cross-lees', 'reattaching', 're-examination', 'crocco-lees', 'improper', '/dividing/', 'translated', 'language', 'thirteen', 'nonspherical', 'interpretive', 'parabolae', 'bound', 'aforementioned', 'delimited', 'non-linearity', 'desire', 'end-point', 'formally', 'adjusted', 'cross-sections', 'succeeding', 'necessitate', '1921', 'adequacy', 'du/dx', 'word', 'gortler', 'stratford', 'photo-thermoelasticity', 'summarizes', 'photoelastic', 'paraplex', 'p-43', 'room', '-40', 'equipment', 'elasticity', 'thermal-expansion', 'plane-stress', 'contracting', 'inclusion', 'thermal-shock', 'length-depth', 'p43', 'castolite', 'epoxy', 'resin', 'hysol', '6000-op', 'potentially', '+100', '-60', 'vapor-screen', 'ink-flow', '1.9', 'delta-wing', 'semiapex', '31.75', '3430', 'planform', 'diamond-shaped', 'normal-pressure', 'vapour', 'fog', 'oil-flow', 'alleviated', 'latent', 'everywhere', 'pressure-correction', 'favorably', 'oswatitsch', 'maeder', 'circular-arc', 'keune', 'correcting', 'easy', 'linearisation', 'chapter', 'indirect', 'helpful', 'chester', 'eq', 'vanishes.', '7-113', '0.76-power', 'proportionality', '/u1', 'u2//u1', 'u1', 'repeated', 'complementary', '/im', 'erfc', '/jmin', 'n/', 'recurrence', 'jmin', '/-dashn/', 'jmjn', '/n/', 'co-current', 'keulegan', 'sextic', 'f40umerical', 'quartic', 'tabulate', \"''\", '+', 'ff', 'specification', '5d', '-1.23849', '-1.2', 'cussed', 'analyser', '-yy', '1081', '1932', 'insufficient', 'specify', '-0.199', 'combustible', 'sutton', 'laminary', 'admixture', 'diminish', 'relieve', 'reexamination', 'positioned', 'doubled', 'small-shear', 'identify', 'ass', 'uniform-flow', 'hypothesized', 'aerothermoelastic', 'stress-deflection', 'high-stagnation-temperature', 'primary', 'looking', 'specialized', 'restrictive', '/incomplete', 'aerothermoelastic/', 'and/or', '/restricted', 'purpose/', 'facet', 'modeling', 'base-type', 'incoming', 'base-type/', 'backward-facing', 'reynolds-number-dependent', 'base-pressure', 'reaction-rate', 'gasdynamics', 'linearizing', 'announces', 'preparation', 'co.', 'msvo', 'et.al.', 'air-flows', 'processes/', 'ia', '62-67', '30th', 'annual', 'meeting', 'york', 'jan.', 'mentioning', 'quote', 'thence', 'feel', 'unhappy', 'ber', 'surely', 'letting', 'warranted', 'typography', 'confusing', 'typographical', 'magnetic-field', 'plane-couette', 'describable', 'concise', 'firmer', 'ogive-forebody', '25,000', 'btu', 'slug', 'presenting', 'johnson', 'computing-machine', 'pr', 'plast', 'paid', 'transverse-curvature', 'local-similarity', 'nonsimilar', 'newton-busemann', 'buzz', 'usaf-sponsored', 'refined', 'coincide', 'arithmetic', 'cycle', 'yawing', 'traveled', 'linearity', 'constancy', 'con-damped', 'sinusoid', 'ballistics', 'coefstant', 'exponentially-ficients', 'adding', 'spoken', 'wkb', 'essence', 'communication', 'gamma', 'laguerre', 'nice', 'heretofore', 'puzzled', 'facilitates', 'freeing', 'idealizing', 'refine', '/reverse/', 'compete', 'viewing', '/afresh/', 'revolution/', '/standardize/', 'joule', 'gravalos', 'edelfelt', 'emmons', 'gordon', 'geiger', 'serbin', 'squire', 'drag-rise', 'onset-of-', 'separation-effects', 'nonzero', 'redefinition', 'rayleigh', '2.92', '2.18', 'navy-sponsored', 'sharp-nosed', 'aeroballistics', 'havelock', 'shallow-water', 'wave-resistance', 'quest', 'transportation', 'focused', 'ground-effect', 'terrain', 'operates', 'land', 'gravity-wave', '/cushion/', 't.', 'digital-computer', 'nose-bluntness', 'after-bodies', 'hise', 'nose-bluntness-induced', 'aft', 'nose-afterbody', 'chernyi', 'sublimation', 'acted', 'manoeuvring', 'expenditure', 'usaf-supported', 'apogee', 'supplied', 'grazing', 're-orbit', 'allowed', '74', 'swirl', 'choking', 'excluding', 'm=4', '.0.', '4.0', 'self', 'sustained', 'self-sustained', 'restoring', 'representable', '/polygonal/', 'vanishingly', '.92', 'longitudinal-stability', '1.35', 'lift-curve', 'transonic-tunnel', 'reaction-resisted', 'resisted', 'simulates', 'co-planar', \"'wall\", 'know', 'storage', 'playing', 'prof', 'platinum', \"'magnus\", 'finned', '/magnus/', 'all-movable', 'accompanies', 'tail-interference', 'spinning', 'predominant', 'modifies', 'sub-', 'short-coming', 'spreiter', 'local-linearization', 'hosokawa', 'roundness', 'cone-cylinder-flare', '0.', 'flared', 'semivertex', 'smoothly', 'blended', 'shoulder', '3.3', '/flat', 'enthalpy/', 'overestimate', 'f.p.r.e', 'acquire', 'frontal', \"ao'b\", 'peng', 'pindroh', 'hansen', '40,000', 'tangent-wedge', 'pressure-interaction', 'liable', 'attach', 're-emphasizes', 'closest', 'full-scale', 'elliott', 'zero-pressure-gradient', 'constant-wall-temperature', 'operated', 'flowmeter', '0.262', '1.400', '81', 'instrumented', '109', 'thermocouple', 'automatically', 'self-balancing', 'potentiometer', 'tap', '23', 'micromanometer', 'vacuum', 'manometer', 'overlapping', '41', '7.2', 'nylon', 'oseen-type', 'discontinuous-wake', 'distant', 'encounter', 'reimpinge', 'charged-', 'particle-density', 'neutral-particle', 'pitch-yaw', 'popular', 'u.s.s.r.', 'receiving', '/second', 'method/', 'bar', 'low-density-nonunity', 'generate', 'gun', 'fire', '0.22-in', '17,000', 'projectile', 'observe', 'cm', 'hg', 'luminous', 'ence', 'streak', 'drum-camera', 'drum', 'camera', 'photo-multiplier', 'ablative', 'local-mach-number', 'conpressibility', 'dorod-nitzyn', 'formulism', 'eckert', 'shear-stress', 'infite', 'stagnation-line', '/strong/', 'affinely', 'newton', 'stacking', '/stacking/', '/hypersonic', 'gun/', 'wing-fin', 'sideslipping', 'gothic', 'ogee', '6.8', 'electroformed-nickel', 'temperature-time', 'thin-wall', 'caret', 'undersurface', 'pt', '.iv', 'eccentricity', 'gw', '533', \"'density\", 'life-time', 'extra', 'added', 'constant-h', 'connecting', '0.02', 'lifetime', 'e-versus-time', 'vortex-type', 'pursued', 'minnesota', 'vortex-tube', 'manifested', 'creep', 'equilibrate', 'translational', 'dissociate', 'glassy', 'ablating', 'radiating', 'vaporization', 'hemispherical', '6000', '26,000', 'fps', 'today', 'closing', 'reply', 'detra', 'hidalgo', 'sonic-point', 'rational', 'radically', 'overexpands', 'feldman', 'ar', 'by-', 'statistic', '0.500-in.-diameter', '8500', 'motion-picture', 'mm', 'transpiration-cooling', 'preceded', 'nonporous', 'loosely', 'mountain', 'x-y', 'knowing', 'cut', 'y-axis', 'crossing', 'radon', 'cope', 'empirically', 'shearing-stress', 'large-eddy', 'inertia', 'penetrates', 'chiefly', 'usefully', 'scalar', '1x10', '4x10', 'compressible-boundary-layer', 'incompressible-boundary-layer', '3.9', '44', '34', 'dropoff', '86', '11-inch', 'grimminger', 'williams', 'thins', '5-dash', '/1/', '/2/', '6,000', '/3/', 'friedrichs', '/4/', '/5/', 'ultra-high', '7.95', '25.1', '2550', '6500', '2.35', '826', '0.38', '85.5', 'noninsulated', 'contributes', 'shock-layer', 'agreeing', 'strong-interaction', 'c.a.l', '15-dashin', 'thin-film', 'thermometer', 'test-flow', '1.', '0.15', 'dominant', '2,000degreek', '4,000degreek', 'foregoing', 'obeys', 'three-', 'two-component', 'high-altitude', 'consist', 'length-reaction', 'characterizes', 'begun', \"'freeze\", \"'freezing\", 'minimize', 'freezing', 'vibrationally-frozen', 'highly-cooled', 'part-speed', 'severely', 'complete-compressor-stall', 'middle', 'abrupt-stall', 'multistage', 'high-pressure-ratio', 'off-design', 'stage-matching', 'chemistry', 'benser', 'w.a', 'deterioration', 'phys', 'inst', 'enlarges', 'notion', 'stage-stacking', 'poor', 'multiple-valued', 'intermediate-speed', 'surge', 'stall-naca', 'e56b03b', 'xiii', 'heat-flow', 'elimination', '/ignorable', 'constituted', '/associated', 'replace', 'content', 'dirac', 'green', 'thermo-mechanical', 'reciprocity', 'thermomechanical', 'body-force', 'viscoelastic', 'externally', 'castigliano', 'thermomechanics', 'handicap', 'project', 'i-section', 'heat-balance', 'intrinsically', 'fluid-flow', 'follows..', 'imperfect', 'volterra', 'stefan-boltzmann', 'adsorption', 'chemisorption', 'claimed', 'sensible', 'publication', 'half-space', 'remember', 'stall-limit', 'severly', 'stage-', 'progressive-type', 'instigated', 'resonant', 'jet-engine', 'receiver', 'cyclic', '/choke', 'line/', 'pressure-ratio', 'inlet-mass-flow-coefficient', '/laval/', 'construction', 'nonlinear-pressure', 'suitability', 'barrel', 'overswing', 'microwave', 'driving', 'chamber', 'driven', 'flexure', 'pivot', 'scruton', 'woodgate', 'et', 'al', '1.75', '2.47', 'arc-discharge', 'self-luminous', 'squared', 'part-span', 'anhedral', 'rotary', 'damping-in-yaw', 'non-symmetric', '/core/', 'sustains', 'choosing', 'norman', 'brown', 'michael', 'farnborough', 'lay-out', 'working-section', 'heater', 'm=6.8', 'm=8.2', '680', 'centigrade', 'm=9', 'realised', 'quick-acting', 'valve', 'cure', 'preheating', 'p.s.i.g', 'fibrous', 'insulation', 'hotter', 'bottom', '/hogging/', 'iii', 'fused', 'silica', 'm=7', 'centreline', '/kopal/for', 'semi-angles', 'rose', 'over-expansion', 'noticed', '/intermediate', '/thick/', '/thin/', 'shercliff', '5.0', 'mass-flow', 'waves-dash', 'measurements-dashthe', 'sound-source', 'one-half', 'collect', 'braunschweig', 'enthalpy-velocity', '0.725', 'serf', 'inverted', \"'v\", 'virtually', 'e/0.2/', 'show/1/how', 'contract', 'and/2/how', 'type/1/are', 'oblateness', 'oblate', 'i/technical', 'no.g.w.533/on', 'spheroid', 'ellipticity', '0.025', 'summarize', \"their'worst'values\", 'spherical-atmosphere', 'altered', '5-10', '/0.2', '1/', '.and', 'upper-atmosphere', 'semi-major', 'quadratically', 'p-28.59/0.15/-h-200//46/5/0.028/0.013//h-200///46/', '170', '700', 'grams/c', 'kilometre', 'bracket', 'enable', 'air-density', 'profile/i.e.its', 'height/to', 'sub-perigee', '220', 'equatorial', 'belt', 'latitude', 'season', 'day-to-night', '200-700', '200', 'consolidate', 'h.k', 'kallmann', 'variations/h180', 'km./', '20-cm', \"the'solar\", \"effect'may\", 'ultra-violet', 'fl-layer', 'decide', 'x-ray', 'diurnal', 'seasonal', '210', '562', '660', 'satellites/sputnik', 'vanguard', '2/', '1958-october', 'physcal', \"..the'solar\", \"effect'originates\", '304', 'f2-layer', '190', '280', 'discoverer', 'night', 'small/less', 'disappears', 'night-time', 'conforms', '35/2/km.no', 'apart', 'polar-region', \"the'density\", \"height'h\", 'h-p//dp/dy/', 'because/with', 'air/it', 'small-eccentricity', '200-450', 'errors/s.d./of', 'declined', '1961', '..e.g.at', '350', 'supposition', '250', '1959-61', 'short-lifetime', 'constituent', 'migrate', 'spontaneously', 'warmer', 'colder', 'soret', 'converse', 'dufour', '1856', '1873', 'multicomponent', 'priori', 'laminar-boundary-layer-type', 'channel-flow', 'air-cushion', 'seal', 'rearward', 'fan', 'ground-height', 'vehicle-length', 'lower-surface', 'mound', 'upper-surface', 'induced-drag', 'sealing-air', '/blast-wave/', 'diminished', '/sonic-wedge/', 'overexpansion', 'underexpansion', 'touch', 'genuine', 'influential', 'small-deflection', 'all-round', 'vibrating', 'flutter-mode', 'four-', 'five-term', 'transpiration-cooled', 'naval', '3.53', 'absent', 'classically', 'w=0.65', 'pr=0.71', 'y=1.25', 'w=1', 'split', 'r.a.e.101', '55', 'planforms', 'k+1', 'th', 'square-', 'double-wedge', '.4.', '15.4', 'square-planform', 'shaft-mounted', 'leading-', 'uncoupled', 'two-mode', 'piston-theory', 'bluff-afterbody', 'methane-air', 'combustion', 'heating-rate', 'combution', '1.39', 'beneath', 'rocket-exit', 'exhausted', 'moved', 'rocket-on', 'rocket-off', '48', 'lend', '7-', '10-foot', '1.33', 'upper-and', 'tumbling', 'arrest', 'painleve', 'transcendant', 'resist', 'never-', 'the-less', 'tne', 'lecture', 'promising', 'dicsovering', 'drawing', 'board', 'prototype', 'integrity', 'deisgn', 'rib', 'rib-skin', 'intersection', 'resonable', '/random/', 's-n', 'consierable', 'expectation', 'uncertain', 'guaranteed', 'membrane', 'sector', 'extensional', 'traction', 'kempner', 'dead', 'wing-aileron', 'launched', 'torsion-control', 'under-massbalanced', 'scatter', 'historically', 'rayleigh-ritz', 'bernoulli-euler', 'plane-strain', 'twisting', 'fine', 'gridwork', 'antielastic', 'gathered', 'reproduced', 'pertain', 'prime', '/equivalence/', 'despite', 'injectant', 'two-inch', 'fabricated', 'woven', 'aligned', '1.55', '1.08', 'vice', 'versa', 'superposition', 'prismatic', 'equilateral-triangle', 'hexagonal', 'hovercraft', 'maritime', 'searching', 'commercial', 'service', 'craft', 'saunders-roe', 'sr-n1', 'public', 'descriptive', 'press', 'american', 'personal', 'assessing', '..-', 'powering', 'undertaken', 'cushion', 'economics', 'reattached', 'downward', 'focus', 'salient', 'diminishing', 'rae.101', 'convolution', 'damped', 'japan', '1953', '662', 'r=1.4', 'u-r', 'distance-time', 'imai', 'induce', 'rapidly/freeze/', 'sudden/freezing/of', 'interferograms', 'm=2.45', 'i..', 'attaining', 'range.', 'allowable', '/panel', 'entirety', 'unretarded', '2p', 'secondary-flow', 'conjectured', '/stokes', 'whitehead', 'paradoxes/', 'overlap', 'solution/', 'transforms', 'coincides', 'basic-flow', 'hankel', 'b.', 'wedge-type', 'constant-', 'variable-temperature', 'stream-to-wall', 'aerodynamic-heating', '0.43', 'tended', '3.8', '0.6x10', '2.3x10', 'foreknowledge', 'combine', 'wedge-flow', 'evaluates', 'recovery-temperature', '3.04', '0.823', '0.012', '0.840', 'adjoining', 'self-similar', 'supplementary', 'cheng', 'classified', 'vorticity-interaction', 'continuum-flow', 'bridge', 'surface-heat', 'zakkay', 'ting', 'caplan', 'inconsistency', '101', '1.6x10', '3.2x10', 'aerodynamic-centre', '.but', 'octagonal', 'n.', 'parasol', 'monoplane', '75', '68', '88.8', 'ld', 'hinge-axis', 'attitude', 'irrespective', 'counteracting', 'diving', 'lift-dependent', 'm=', '2.', '-distribution', 'slenderness', '0.19', '60degree', '1.3x10', '3.9x10', 'half-models', '3.899', 'curving', 'lifting-surface', 'contrasting', 'isobar', 'stalling', 'appraisal', 'confirmed', '/subsonic', 'theory/', 'economic', 'pivotal', 'plotting', 'trigonometrical', 'getting', 'predigested', 'charts/figs.1-6/', '.it', 'proposition', '.section', '8-30', 'i-vi', 'vii', 'instruct', 'endplate', 'mostly', 'altering', 'quasi-conical', 'single-integral', 'reversible', 'irreversibility', 'directed', 'twisted', 'cambered', 'deduce', 'wing/with', 'edges/to', 'antisymmetric', 'w-a', 'ux/y/is', 'ux/y/sgn', 'anti-symmetric', 'downwashes', 'homogenous', 'cubics', 'minimized', 'conically', 'flow/in', 'occurs/past', 'resemble', 'drooped', 'downwards', 'localised', 'forward-facing', 'f/a/', 'g/a/', 'e/a/', 'and/a', 'b/respectively', 'legendre', 'all-movable-control-type', '6.86', 'bending-to-torsion', '0.33', 'single-wedge', '3.98', '0.42', 'prone', 'coupled-mode', 'uncoupled-mode', 'tapered-planform', 'uncoupled-', 'unconservative', '5-', '15-percent', 'beveled', 'shaft', 'thicker', '6.9', 'seemed', 'elastic-axis', 'spheric', '1degree', '85degree', '0degree', '15degree', 'sharp-nose', 'real-flow', 'nonisothermal', '0.14x10', 'stine', 'wanlass', '3344', 'sibulkin', 'investigaion', 'spiked-nose', '0.12', 'spike', 'hydrocarbon', 'burned', 'ethylene-air', 'compound', 'methane', 'ethylene', '200degree', 'nacelle', '2.02', 'propulsive', 'choked', 'impinged', '1.450', 'propulsive-jet', '3.392', 'resulted', '2.86', 'blowdown-type', 'staticpressure', 'static-', '1.747', '4.981', 'nacelle-exit', '13', 'blowdown', 'small-scale', '/hydrogen', 'dioxide/', '/3,300degreer/', '1.27', '1.66', '14.4', '/jet', '1.71/', 'nozzle-throat', 'rocket-chamber', '130', 'incremental-normal-force', 'rocket-jet', 'firing', 'jet-effect', '4.7', 'rocket-jet-exit', 'unsteady-lift', 'sharpedge', 'indical', 'undergoing', 'sinking', 'normalized', 'corroborate', 'indicial', 'kirchhoff', 'pitchingmoment', 'noncirculatory', 'apparent-mass', 'experiencing', 'acquisition', 'prevents', 'specialization', 'possio', 'birnbaum', 'lastly', 'kernel', 'processing', '/four', 'five/', 'flapping', 'allmovable', '3.50', '5.04', 'separating', 'nonsingular', '/mach', '/incompressible', 'case/', '/steady', '/see', '979/', 'som', '/indicial', 'lift/', '/s/', 'wagner', '/alternating', '/k/', 'broad', 'notable', 'heat-sustaining', 'manner-dash', 'glider', 'distributes', 'redistribution', 'enhanced', 'reentry', '2.91', '9.6', '25degree', '99degree', 'folding', 'wingtip', 'wing-tip', '-4degrees', '99degrees', '2.99', '7.8', '3.4', '1.20', 'pitch-up', 'neutrally', '50degrees', '60degrees', 'ducing', 'trim', '49degree', 'smallest', 'sandpaper', '4degrees', '100degrees', 'highspeed', '/near', '90degree/', 'unfolding', 'angle-', 'of-attack', 'low-aspect', 'conform', 'untrimmed', 'subsonic-lift', '79.5degree', '45degree', 'dihedral', '6.2', '7.5', '0degrees', 'incorporating', '10degrees', '20degrees', 'unification', 'accidental', 'martian', '12degree', '21,700', '-40degree', 'six-degree-', 'rigid-body', '/nose', 'forward/', '10-rpm', 'ample', 'distributing', 'encompassing', 'flat-based', 'nose-forward', 'base-forward', '3.', '25degrees', '40degree', 'preserved', 'encompass', 'france', 'onera', 'cosmonautics', 'forefront', 'news', 'occasion', 'denomination', '/aerocosmonautics/', 'backed', 'abundantly', 'built', 'circumlunar', 'confine', 'utility', 'akin', 'illustrious', 'mind', 'resource', 'libration', 'commence', 'precipitate', 'massachusetts', 'sandwich', 'mode-frequency', 'honeycomb', '/uni-modal/', 'bond-stress', 'tensile', 'r.m.s', '42', 'pound', 'jet-nozzle', 'cps', 'near-field', 'sound-pressure', 'free-field', 'jet-engine-exhaust', 'cold-air', 'nozzle-exit', 'strouhal', 'cross-correlation', 'longitudinally', 'laterally', '6.5', 'thereafter', 'frequency-band', 'specimen', 'loudspeaker', 'stroboscope', 'piece', 'responds', '/joint', 'acceptance/', 'spacewise', '/normal/', 'randomness', 'cumulative', 'damage', 'high-powered', 'paralleling', 'eye', 'literally', 'endeavour', 'siren', 'conviction', 'assure', 'equality', 'airliner', 'pod-mounted', 'strain-gage', 'elevator', 'skin-panel', 'jet-induced', 'throw', 'stress/', 'aluminium', '2024-t3', 'aluminum-alloy', 'discrete-frequency', 'shorter', 'modal', 'dictated', 'prevalence', 'demonstrates', 'chain', 'converges', 'ritz', 'call', 'identity', 'schwarz', 'inequality', 'u-v', 'bent', \"'plane\", 'edge-displacements', 'edge-tractions', \"'first\", \"'second\", 'propounded', 'inclusive', 'multiply', '1948', \"'two-diagram\", 'preferable', \"'mixed\", 'sectorial', 'reinforced', 'integral-equation', 'boundary-condition', 'deflexion', 'semicircle', 'weinstein', 'succession', 'judged', 'closeness', 'connexion', 'analyzes', 'wedge-shaped', 'bisector', 'laplacian', 'large-deflexion', 'irregularity', 'muller', 'prepared', '1103', '1103a', 'transcendental', 'inadequacy', 'explaining', 'donnell', 'flugge', 'untenable', 'substantiated', 'buckle', 'stored', 'explains', 'rapidity', 'southwell', '1914', 'america', 'lundquist', '1934', 'influenced', 'one-quarter', 'circumferential', 'wave-length', '0.195e', 'tr', 'post-buckling', 'compressed', 'postbuckling', 'thin-walled', '0.182', 'er', 'michielsen', 'leggett', 'jones', 'next', 'dvl', 'orthotropic', 'rsults', 'end-shortening', 'oc', 'ab', 'bc', 'mercury', 'two-fold', 'massbalance', 'prevention', 'efflux', 'bodt', 'gyration', 'canard', '/compressible', 'flow/', 'specially', '/0.04/', '/0.2/', 'surface/', '/0.02/', '/0.05/', 'surface-tab', 'multiplying', '1f', '0.8a', 'half-heights', 'branchline', 'exhaustive', 'not-so-thin', 'thin-wing', 'kernel-function', 'acceptably', 'lag', 'quasi-unsteady', 'multi-degree-of-freedom', 'parameter-variation', 'sophisticated', 'perimeter', 'sting-mounted', '6.', '2.6', 'klein', 'co-authored', 'large-order', \"'that\", 'anove-mentioned', 'klein/s', 'disagree', 'pessimistic', 'large-matrix', 'treated..', 'inversion.', 'perform', 'half-wing', 'simultaneously-attained', 'resembles', 'stimulates', 'cropped-delta', 'noteworthy', 'resembled', 'attainable', 'sonic-boom', 'overpressure', 'generating', 'lift-producing', '85', '0.30', '2.85', 'longitudinal-force', 'normal-force-curve', 'center-of-gravity', 'dynamically', 'rising', '2.1', 'inelastic', 'stress-strain', 'aluminum', 'alloy', '3003-0', 'overestimation', 'paradox', 'low-modulus', 'monocoque', 'radius-thickness', 'strain-analysis', 'load-strain', 'room-temperature', 'removal', 'cycling', 'bending-moment', 'beyween', 'unlike', 'breathing', 'shallow-shell', 'node', 'liquid-sloshing', 'high-frequency', 'tentatively', 'beat', 'yarymovych', 'hydrostatic', '1.10', '1.50', 'single-bay', 'length-width', '96', '0.96', 'faired', 'flat-panel', 'buckled-panel', 'large-amplitude', 'small-amplitude', '/transtability/', 'deformed', 'plastically', 'riccati', 'soluble', 'endurance', 'equivalently', 'temperature-edge', 'context', 'catered', 'meter', 'assessment', 'multiplied', 'hoop', 'janzen-rayleigh', 'raleigh', 'philos', 'mag', '32', '1916', 'jet-flap', '381', 'transparent-walled', 'spark', 'stainless', 'steel', 'micron', 'psig', 'nonpermeable', 'noticeably', 'stagnation-pressure', 'rube-sin', 'stream-side', 'noninjection', 'derives', 'fluid-solid', 'dodecagonal', 'rendering', 'permissible', 'valueless', 'longest', '/spread/', 'astrophysics', 'quantum', 'rl', 'decimal', 'x=6.00', 'well-established', 'sinusoidally', 'imaginary', 'transonic-bump', 'thickness-to-chord', '1.12', '1.7', '2.2', '63a2xx', '63a4xx', 'influence-coefficient', 'disturbing', 'r-48', 'vertical-', 'horizontal-tail', 'embracing', 'discrete-horseshoe-vortex', 'vertical-tail', '/for', 'quarter-chord', '45degrees', 'total-tail-assembly', 'l-method', 'tail-boom', 'tailless', 'buoyancy', 'bridging', 'davy', 'bourne', 'attacked', 'hasimoto', '1/2', 'parallell', 'linder', 'ambiguity', '/excluding', 'inwards/', '/valid', 'cylinder/', 'conformally', 'onto', '0.5772', '...', '/euler', 'constant/', 'smallness', 'batchelor', 'atlarge', 're-entrant', 'skin-frictional', 'axisymmetrical', 'ovaluated', 'single-degree-of-freedom', 'motions.', 'unfavorable', 'testing.', 'circuitry', \"'ogee\", 'kuchemann', 'congress', 'zurich', 'wingbody', '55degrees', 'near-triangular', '/slewed/', 'knee', 'blown', 'aimed', 'clarifying', 'forecast', 'pilot', 'want', 'holding', 'avro', '707a', 'worsened', 'task', 'expense', 'phugoid', 'status', 'lateral/directional', '828', '333', '53', 'typically', 'warren', 'thickness/chord', 'strain-gauge', 'npl', '18in', '14in', 'liner', 'half-model', 'no.320', 'no.500', 'carborundum', 'grain', '/about', '/0.80', '1.15/', '50degree', 'droop', '/but', 'shock/', 'undrooped', 'sweptforward', 'reattaches', 'hero', 'aerfoils', 'repercussion', 'steady-motion', 'roar', 'inter-relation', '/so', 'subsonic/', 'unsteady-flow', 'iv', 'reproduce', 'risk', 'incurring', 'adaptation', 'insignificant', 'pressure-plotting', '0.211', '0.117', '0.120', 'influencing', 'reflecting', 'expansion-wave', 'persisting', 'modify', 'boom', '/sonic', 'boom/', 'popularly', 'widespread', 'hope', 'booming', 'wright', 'f-100', 'edward', 'authority', 'command', 'directive', '5524-f1', '45,000', 'fighter-type', 'wooded', '1.13', 'sounding', 'radar-tracking', 'track', 'tailwind', 'ground-reflection', 'averaged', 'observer', 'objectionable', 'cracking', 'plate-glass', 'bomber', 'tolerable', 'd-48', 'amplification', 'cutoff', '30,000', 'ground-pressure', '1.24', '1.52', 'gross-weight', '83,000', '120,000', '01', 'bypass', '64', 'boom-producing', 'nonaxisymmetrical', 'far-field', '4-', 'bow-shock', 'insight', 'flight-test', 'subjective', 'lesser', 'walkden', '=pressure', 'whichever', 'fineness-ratio-2.71', 'fineness-', 'ratio-been', '2.15', 'body-axis', 'rolling-missile', 'pulse-rocket', 'establishing', 'first-', 'trans-', 'onic', 'extendible', '1.74', '2.78', 'full-skirted', 'short-skirted', 'segmented', 'clamshell-shaped', 'served', 'dissimilar', 'phasing', 'low-fineness-ratio', '3.11', 'sloped', 'hardening', 'prager', 'meant', 'hollow', 'prandtl-reuss', 'hencky', 'budiansky', 'acceptability', 'uniaxial', 'correspondingly', 'hampered', 'nonexistence', 'polyaxial', 'legitimate', 'contradiction', 'crucial', 'alluded', 'justifies', 'tangent-modulus', 'engesser', 'reduced-modulus', 'precipitously', 'turbances', 'large-deflection', 'precipitated', 'lower-yield', '/unevenness', 'factor/', 'fabrication', 'nonconservative', 'nonlinearity', 'really', 'uniquely', 'complement', 'peculiar', 'impression', 'excessively', 'overly', 'unavoidable', 'hinged', 'stretching', 'sandwich-type', 'mere', 'dome', 'departs', 'surpassed', 'finite-displacement', '/energy', 'criterion/', 'equating', 'deteriorates', 'rotationally', '1912', 'non-rotationally', '2,3,4', 'restricting', 'brings', 'item', 'experimental-failure', 'theoretical-buckling', 'ascribed', 'chien', 'stoker', 'aec', 'vs.', 'accelerates', 'induces', 'diverges', 'assumes', 'self-generating', 'economical', 'safety', 'wo', \"n't\", 'trick', 'get', 'accumulation', 'parkes', 'sprague', 'huang', 'temperature-load', 'two-element', 'lingitudinal', 'elevated', 'load-temperature', 'coupon', 'time-independent', 'stress-strain-temperature-time', 'multiaxial', 'time-varying', '/planes', 'plane/', 'inplane', 'three-bar', 'eventual', 'permanent', 'rupture', 'thermal-stress-fatigue', 'centrally', 'test-theory', 'creep-rupture', 'pressurised', 'ring-stiffened', 'walled', 'unstiffened', 'unpressurized', 'semiempirically', 'best-fit', 'wrinkled', 'stretched-membrane', 'wrinkle', 'retain', 'wrinkling', 'batdorf', 'wavelength', '479', 'median', 'viewpoint', 'freely', 'bell', 'thickness-diameter', 'timoshenko', 'evolved', 'love', 'nodal', 'aural', 'freely-supported', 'end-plate', 'air-receiver', '/fundamental/', 'contacting', 'lineal', 'fluid-cylinder', 'kirchhoff-love', 'noncircular', 'median-surface', 'doubly', 'major-minor', '.3.', 'magnesium', 'brass', 'shortening', 'width-length', 'sure', 'l', '0.44', '0.69', '0.21', 'four-bay', 'bay', 'psf', '5,000', '655', 'aluminium-alloy', 'multibay', 'external-skin', '9-', '6-foot', '17-7', 'ph', 'stainless-steel', 'stabilizer', 'x-15', 'unsupported', 'unloaded', 'modified-thickness-ratio', 'unstressed', 'panel-support', 'panel-skin', 'multi', 'mw-1', 'unanticipated', 'failed', 'driest', '12.0', 'nickel-base', 'thermal-fatigue', 'fluidized', 'bed', 'damaging', 'crack', 'intercrystalline', 'oxidation', 'intergranular', 'previously-given', 'hot-fatigue', 'classed', 'practicably', 'nimonic', 'rheological', '800', 'deg.', '850', 'graham', 'loop', 'fracture', 'n.g.t.e', 'eigenvectors', 'fictitiously', 'sub-division', 'multiply-connected', 'viscoelasticity', 'exchanger', 'reactor', 'unreality', 'residual', 'dislocation', 'immobile', 'activation', 'kt', 'temperature-field', 'peclet', '/conduction', 'analogy/', 'surface-heat-transfer', '/trailing', 'function/', 'fields/', 'worthy', 'mckinnon', '/in', 'serious/', '*', 'proportionate', 'fail', 'gravitational', 'addendum', 'viz', 'envisaged', 'middle-surface', 'avoidance', 'clearance', 'scaled', 'expended', 'counting', 'accelerometer', 'undoubtedly', 'typifies', 'tubular', 'unrestrained', 'cooler', 'bulkhead', \"'thermal\", 'zuk', 'bulk-head', 'pneumatic', 'encircling', 'mid-length', 'expand', 'laid', 'usefulness', 'coverage', 'unexplained', '/calibration', '/quasi-steady/', 'airforce', 'circling', 'economy', 'high-g', 'hybrid', 'state-of-the-art', 'manocuvres', 'amplifying', 'counter-clockwise', '65', 'feeding', 'kelvin', 'force-free', 'zbrozek', 'shedding', 'shock-waves', 'oscillates', 'shock-boundary', 'september', 'october', '1951', 'inner-tube', 'auspex', 'council', '1943', 'iowa', 'hydraulic', 'undertook', 'variable-pressure', 'neared', 'requested', 'request', 'out-growth', 'navy', 'studied.dash', 'conical.dash', 'systematized', 'modeled', 'stochastic', 'exaggeration', '/all', '/hash/', 'burst', 'confused', 'sea', 'firm', 'dramatic', 'posed', 'spectacular', 'malfunction', 'confidence', 'caravelle', 'air-liner', 'stringer-twisting', 'mode-shapes', 'free-', 'mark', 'electrically-heated', 'bare', 'tungsten', '0.02-in', 'thermal-layer', 'fifty', 'indirectly', 'periodically', 'spectral', 'band-pass', 'transtability', 'aero-elastic', 'negation..', 'defy', 'tractable', 'suppose', 'precludes', 'premise', 'begs', 'preclude', 'ban', 'not.', 'forcible', 'pinned', 'conidtions', 'orthogonality', '90000', '220000', 'adam', 'heaving', 'opened', 'easiest', 'delta-wings', 'supplement', 'broke', 'recognised', 'invalidated', 'remove', 'single-degree-', 'ko', '/o', 'semi-span-to-chord', 'frequency/', 'low-aspect-ratio-wing', 'theory-review', 'munk', 'source-sink', 'breadth', '/e.g.', 'ratio/', 'not-so-slender', 'supersonic-airfoil', 'nielsen', 'katzen', 'tang', 'a50f06', 'trapezoidal', 'wing-body-tail', 'unbanked', 'a51j04', 'a52b06', 'speaking', 'post', 'cylinderical', 'indicative', 'body-wing', 'closed-contour', 'velocity-perimeter', 'mild-steel', 'duralumin', 'radius-', 'failing', 'proposel', 'exploring', 'hundred', 'arrived', 'devise', 'dimensioning', 'decisively', 'variability', 'ellipse-like', 'unsymmetrical', 'oval-shell', 'developable', 'fourth-order', 'listed', 'rewrite', 'v.', 'vlasov', 'prikl', 'mat', 'meh', '1944', '109-placements', 'eighth-order', 'insect', 'maintenance', 'rivet', 'lap', 'roughening', 'fruit', 'fly', 'drosophila', 'housefly', 'roughened', 'mistake', 'single-', 'multi-layer', 'donnell-type', 'circumference', 'frustum', 'synthesis', 'constant-temp', 'magnetogas', 'nose-tail', 'aside', 'hypersonic-similarity', 'tan', 'pre-asymptotic', 'kirk', 'transducer', 'catalytically', 'decomposed', 'obey', 'retaining', 'pump', 'hub', 'blade-surface', 'block', '10.3', '0.03', '55.6', 'depended', 'sharply', 'shock-displacement', 'semi-vertex', '2.25x10', 'axial-force', 'hyper-velocity', '1,000', 'nozzle-flow', 'd-693', 'charted', 'creep-buckling', 'shanley', 'gerard', 'rabotnov', 'shesterikov', 'hyperbolic-sine', 'pressure-type', 'herrmann', 'armenakas', 'cylinder-hemisphere', 'cone-spherical', 'torus', 'mismatch', 'nonconcurrence', 'closure', 'pressureized', 'trace', 'sand-', 'wich', 'oriented', 'snap', 'belleville', 'bifurcation', 'scooping', 'filling', 'furnishing', 'launching', 'long-time', '3792', 'triple', 'bornel', 'kernal', 'appraisement', '0.73', 'deducted', 'balanced', 'mitigated', 'conductivity.', 'stony', 'meteorite', 're-solidification', 'constitution', 'affords', 'flowmeters', 'venturi', 'rounded-entrance', 'tional', 'length-diameter', 'asme', 'long-radius', 'furnishes', 'untested', '/not', 'result/', '/due', 'gradient/', '/or', 'quasi-incompressible', 'flows/', 'separable', 'magnetogasdynamics', 'magnetofluidmechanics', 'magneto-plasma', 'sail', 'reliability', 'inter-planetary', '/near/', 'side-jets', 'sizable', 'usable', 'obviously', 'bonus', 'perpendicularly', '3.44', '110', 'center-of-pressure', '6.4', 'exiting', 'arrow-wing', 'reentry-type', '460', '0.001', 'jet/', '/laminar', 'turbulent/', 'stagnation-to-free-stream', 'jet-to-', 'layer-shock', 'evaporates', 'berthelot', 'planck', '180,000', 'coalescence', 'swallow', '/self-similar/', '9,000-10,000', '4,000', 'spite', 'electron-ion', '200,000', 'l-band', '1,300', 'mc', '100,000-ft', 'uhf', 'requency', 'inafinite', 'erosion', 'wake-flow', 'ordnance', 'adiabatic-wall', 'triangle', 'diversified', 'modest', 'thick-wall', '/infinitely', 'thick/', 'kaye', 'yeh', 'afforded', '/heat', 'sink/', 'integrating', 'finite-thickness', 'copper', 'graphite', 'molybdenum', \"'heat\", 'r-ft1/8', 'defference', 'mixed-flow', 'meridional', '/hub', 'shroud/', 'hub-shroud', 'stream-filament', 'meridional-plane', 'stream-tubes', 'streamtube', 'viii', 'redesigned', 'skewed-parabolic', '1300', '1500', 'temperature-rise', 'parabolic-bladed', '3.07', '0.825', 'circular-bladed', 'skewed-parabolic-bladed', '3.13', '3.15', '0.737', '0.805', '/0.854', '0.800/', '3399', 'turbo-machines', 'axial-radial-and', 'turbomachines', 'casing', 'z-plane', 'somewhere', 'blade-to-blade', 'prewhirl', 'zero-angle-of-attack', 'splitter', 'whirl', 'imparted', 'main-blade', 'splitter-vane', 'radial-', 'impeller-tip', 'wing-flow', 'projecting', 'prolate', 'pressure-drag', 'high-energy', 'never', '1.07/', 'compensated', '/change', 'unexpectedly', 'trial', '2.13', '7.66', 'jet-off', '20-percent-body', 'gardless', 'forward-exhausting', 'benefit', 'rearward-exhausting', 'housing', '90degree', '180degree', '0.15x106', 'retrocket', '1.60', '2.00', 'retrorocket', '/pressure', 'm=6', '.5', 'plateau', 'static-pressure-rise', '6.25', '0.18', '0.13', '0.014', 'formulating', 'revision', 'one-', 'half-angles', '90,000', '220,000', 'center-', 'of-gravity', 'cubic', '2.20', '-4degree', '+18degree', 'damping-in-pitch', 'spiked', 'centered', 'princeton', 'flat-faced', 'hemispherically-nosed', 'protruding', 'hemispherical-nosed', '2-inch', '26.6', 'center-line', 'contaminating', 'design-type', 'faced', '-90', '7090', 'flow-field', '1135', 'normal-', 'oblique-shock', 'backing', '4,950', 'calibrate', 'condense', 'air-flow', 'poinds', '24,500', 'weight-strength', 'marin', 'implied', 'unimportant', 'palte', 'concrete', 'conceived', 'clarified', 'librove', 'conjecture', 'short-time', 'elevated-temperature', 'out-of-straightness', 'isochronous-stress-strain', 'as-received', 'stabilized', '24s-t4', 'load-capacity', 'column-material', 'column-capacity', 'column-imperfection', 'creep-bending', '111', 'electric-resistance', 'gage', 'straightness', 'forty-three', '40-inch', '16-inch', '5052-0', 'oven', 'elapsed', 'elapsing', 'deflection-time', 'crooked', 'strain-time', '75s-t6', 'low-alloy', '1,100', 'constant-stress', 'phenomenological', 'polycrystalline', 'equicohesive', 'rapid-heating', '7075-t6', 'iron', 'adjacent-equilibrium-position', 'trefftz', 'avoids', 'curved-beam', 'levy', 'conservativeness', 'statical', 'nongyroscopic', 'circularity', 'two-lobed', 'uncontrollable', 'crinoline', 'skirt', 'compressing', 'draped', 'fabric', 'three-wave', 'four-wave', 'nearer', 'magnified', 'marguerre', '5th', 'internat', 'mech.', 'cambridge', 'mass.', 'wiley', 'edge-loaded', 'abrupt', '117', '28', 'stepdown', 'created', 'connects', 'judiciously', 'pressure-reynolds', 'free-mixing', 'large-step', 'stepped', 'love-meissner', 'argument', 'kelvin/s', 'geckeler/s', 'cabin', 'framed', 'multi-sectional', 'semi-algebraic', 'undeformed', 'nth', 'mth', 'russian', 'inaccessible', 'grossman', '897', 'lyskov', 'belongs', 'seek', 'specialise', 'secure', 'satisfaction', 'deformable', 'weighted', 'attaindd', 'indefinitely', 'labour', 'elastic-behavior', 'fastened', 'corrugated-core', 'isotropic-core', 'necessitates', 'statistically', 'evidenced', 'symposium', 'delft', 'holland', 'attened', 'scientist', 'bimetallic', 'traditional', 'snapping', 'pressure-deflection', '/dead-weight/', 'in-plane', 'accommodated', 'strain-displacement', '/relaxed', 'keller', 'reiss', 'immovable', 'coned', 'annular-disk', 'proportioned', 'load-deflection', 'versatility', 'intention', 'corporation', 'almen', 'laszlo', 'violates', 'arrhenius', 'conduction/', 'crank-nicolson', '/time/', '/space/', 'h2o', 'h2', 'o2', 'co2', 'single-step', '8n', 'ibm-704', 'beane', '7.35', 'six-propeller', 'static-thrust', 'tilting', 'double-slotted', 'tilt-wing', '2-percent', 'deflected-slipstream', '40-percent', '.1.', 'five-stage', 'rocket-propelled', 'research-vehicle', '13.1', '78,000', 'in-flight', 'sensor', 'administration', '0.62', 'ablated-length', 'launch', 'free-free', '87', '0.70', '2.87', '/hammerhead/', 'reflex', '/electrical', 'power-input/', '/decaying', 'oscillations/', 'bond-packard', 'worst', 'hammerhead', '1.00', 'wind-on', 'moderate-length', '0.010', 'stabilize', 'torispherical', 'toroidal', 'prebuckled', 'ignition', 'quenching', 'recognizing', 'simplifies', 'come', 'decomposition', 'ignite', 'enormously', 'differentiation', 'm-2', 'deteriorate', '65degree', '75degree', '/effective', '1.67', 'adaptable', 'ardc', 'continues', '/l40/', 'circulating', '1-dash', '2-dash', 'orlfice', 'hemispheroidal', 'arithmetical', \"'mesh\", 'mesh', 'old', '/relaxation', 'routinized', 'conformity', 'skill', 'practitioner', 'o/', 'rewriting', 'superscript', 'cycle/', '/over-relax/', '307-357', '/1910/', 'over-relaxation', '/with', 'w/', 'newly-computed', 'la', 'gauss-seidel', '$', 'ordering', 'wb', '/w', '/successive', 'over-relaxation/', 'dirichlet', 'keeping', 'incurred', 'wing-stalling', 'extensible-chord', 'high-lift', 'wing-propeller', '.ii', 'twin-engined', 'profound', 'vtol-stol', 'elevation', '2.425', 'large-chord', 'tilt', '7.41', '29.70', 'wing-nacelle-propeller', 'nacelle-propeller', 'reciprocally', '15-foot-span', 'tractor', '5-foot', '30-foot', '25,20', 'propeller-slipstream', 'concur', 'buried-fan', 'buried', 'nose-up', 'redirecting', 'large-diameter', 'regained', 'lowering', 'slotted-flap', 'mph', 'upward', 'auxiliary', 'rotated', 'plain', '11,000', 'f.', 'lucite', 'polystyrene', 'inorganic', 'salt', 'ammonium', 'chloride', 'sodium', 'carbonate', 'phenolic', 'reinforcement', 'melamine-fiber', 'laminate', 'unmanned', 'fiber', 'haveg', 'rocketon', 'heat-absorption', 'heat-sink', 'ethylene-heated', '1,200', '6-', 'unablated', 'arc-heated', '7,000', '1,250', 'shielding', 'btu/lb', 'nonablating', 'inconel', 'variable-capacitance', 'ablation-rate', 'polymer', '2,400degree', '3,800degree', '/length', 'changes/', 'telemeter', 'telemetered', 'solid-fuel', 'sounding-rocket', 'boost', 'payload', '525', 'nautical', 'internally', '219', 'upper-atmospheric', '/given', 'body/', 'leaf', '2.49', 'creased', 'accessible', 'index', 'unblunted', 'decrement', '7.', '3.8x10', 'leading-edged', 'dropped', 'sharp-plate', 'moore', '/yaw/', '/a/', '/b/', '/c/', '/d/', 'deforming', 'audio', 'subaudio', 'cathode-ray', 'digit', 'named', '/dampometer/', 'windtunnels', 'space-vehicle', 'centaur', 'able-v', 'finite-span', 'midchord', 'percent-thick', '3-percent-thick', 'whisker', 'availability', 'quick', '/tailoring/', 'exploit', 'predictive', 'secant', 'plasticity-reduction', 'maximum-shear', 'octahedral-shear', 'perplexing', 'believe', 'succeeded', 'exerts', 'powerful', 'collapsing', 'u.', 'basin', 'repair', 'sequel', 'a.s.m.e', 'conceptual', 'foundation', 'multi-layered', 'fifty-one', 'v-grooves', 'papreg', 'cellular', 'cellulose', 'acetate', '0.00675', '0.02025', '0.066', '0.741', '10.5', 'bulging', 'skew', 'theoretic', 'waviness', 'maintaining', 'smoothness', 'admissible', 'wavelength=0.0005', 'energy-method', 'handbook', '.vi', 'd.and', 'doubtful', 'machined-stiffened', 'kendrick', 'nash', 'embryonic', 'lobe', 'threshold', 'weakening', 'caution', 'edition', 'unfired', 'proof-testing', 'diameter-thickness', '440', 'psi', 'undergone', 'safe', 'interim', 'prism', 'knuckle', 'rigidly', 'bounding', 'unflanged', 'toriconical', 'np', '0.06', '0.08', '0.14', '0.16', 'toriconic1a', 'nonhomogeneous', 'langer', 'trans.amer.math.soc.33', 'wissler', 'dissertation', 'observes', 'jointly', 'occuring', 'beskin', 'randomly', 'diffusely', 'satelite', 'shock-standoff', 'apropriate', 'hay', 'time-wise', 'condensed', 'one-foot', 'high-enthalpy', 'millisecond', 'combustion-heated', 'driver', '4,500', '3.25', 'multiple-propeller', 'tuft', 'dynamic-pressure', 'gravel', 'stronger', 'deeper', 'intensification', 'intensified', 'eroded', 'thrown', 'struck', 'erratic', 'recirculating', 'core-stabilized', 'soft', 'analysis..', 'plate.', 'nocturnal', '125', 'daytime', 'predominating', 'finely', 'insuring', 'boattailing', 'skin-cooling', 'lost', 'capillary', 'clausing', 'reinvestigated', 'numberical', 'temprature', 'singly', 'gauge', '370', 'morning', 'revised', 'u.s.', 'termination', 'mechs', 'perturbing', 'thickening', 'reaching', 'time-history', 'wave-velocity', 'millimeter', 'helium-driven', 'hydrogen-driven', 'ignited', '55,000', '16,000', 'devreased', '19.6', 'tailored-interface', '/tailored-interface/', '6500-foot-per-second', 'shock-compressed', '3660', '0.003-', '4.00', '4th', 'detonation', 'chapman-jouguet', '8,000', 'periments', 'force-test', '1/8', 'vertical-take-off-and-landing', 'short-', 'long-wing', '6-blade', 'tilted', 'forward-flight', 'take-off-and-landing', '3-blade', 'single-rotation', 'forward-acceleration', 'engined', 'four-engine', 'transport-airplane', 'nose-down', 'halfway', 'helicopter', 'single-rotor', 'dual-propeller', 'merely', 'small-diameter', 'dual', 'upflow', 'slower', 'vertical-take-off-', 'and-landing', 'exit-area', 'sand', 'loose', 'dirt', 'sq', 'soaking', 'loose-dirt', 'spray', 'twin-propeller', '3,400', 'snow', 'obliterated', 'vision', 'visibility', 'cleared', 'recirculation', 'propeller-blade', 'dent', 'puncture', 'superficial', 'multipropeller', 'vtol/stol', 'gravel-covered', 'inadvertently', 'taxiing-turn', 'macadam', 'crushed', 'stone', 'chase', '76', 'hangling', 'accentuated', 'level-flight', 'rudimentary', 'undesirable', 'structural-loads', 'airframe', 'vz-2', 'hover', 'wing-stall', 'radial-band', 'strengthening', '7.30', 'unfilled', 'solid-propellant', 'expounded', 'bleich', 'salmon', 'goodier', 'appended', 'u.s.a.', 'ready', 'yuan', 'insertion', 'rectangle', 'tion', 'twenty-five', 'accounting', '1.85', 'garabedian', 'wet', 'counter', 'wetted', 'dorodnitzin-howarth', 'heterogeneous', 'nonreactive', 'reactive', 'deflagration', 'venting', 'boiloff', 'nonaligned', '/superfast/', 'uniformity', 'unexpected', 'join', 'millikan', 'heimenz', 'ellipse', 'expansion-conduction', 'operative', 'conduction-expansion', 'three-dimensionality', 'wakelike', 'jetlike', 'admitted', 'frozen-flow', 'isovels', 'binary-mixture', 'vertex', 'discerned', 'yawed-cone', 'flat-top', 'double-', 'single-type', 'inner-shock', 'nonreacting', 'identifiable', 'chapman-enskog', 'half-range', 'geometrics', 'single-plate', 'bakanov', 'deryagin', '1730', 'cavitating', 'curvilinear', 'synthesized', 'two-parameter', 'locus', 'unperturbed', '/hyperliptic/', 'grad', 'mccune', 'integrable', 'impinging', 'interacted', 'traversed', 'underexpanded', 'area-mach', '8000', 'caliber', 'lees-hromas', 'blunt-leading-edge', 'inviscid-hypersonic-flow', 'entropy-layer', 'wall-to-stagnation', 'foreign-gas', 'iodine', 'gibbs-dalton', 'dilute', 'n.b.', 'kinetic-theory', 'lennard-jones', '6-12', '8-percent', '1-percent', 'centripetal', 'nonnegative', 'transversality', 'erdmann-weierstrass', 'switching', 'extremal', 'subarcs', '66', '46', 'square-root', 'stand', 'vertex-centered', 'pyramidal', 'weaker', 'coincident', 'propagates', 'nonisentropic', 'nonconduction', '0.368', 'total-angle', '7,000-', 'nonsphere', 'paint', 'x10', 'hemi-', '9-in', 'conclude', 'vapor', 'dewpoint', 'utilzation', 'removing', 'dust', 'wave-front', 'cusped', 'cusp', 'relevance', 'mhd', 'invalidate', 'acrodynamic', 'shockless', 'sesired', 'consumption', 'exerted', 'motionless', 'downwash-impingement', 'coherent', 'subsidiary', 'impinging-jet', 'entrained', 'speeds-three-dimensional', '18-in', '20-in', 'sand-grain', '1.98', '4.54', 'quadratic', 'hydraulically', 'veocity', 'aerothermodynamic', '11-', '15-in', 'reshotko', 'zero-yaw', 'elongated', 'predictable', 'stokes-', 'creeping-motion', 'hydroballistic', 'glycerin-water', 'fineness-ratio', '.4', '20,000-fold', 'laminar-viscous', 'oversimplified', 'unrealistic', 'low-reynolds-number', 'step-induced', 'separated-flow', '/jet-flow/', '/dead-air/', '3.85', 'jet-flow', 'restricts', 'unconstrained', 'constrained', '.6', '.5.', 'semiballistic-type', 'half-cone', '8.6', '17.5', '12.4', 'cone-segment', 'sphere-cone', 'balsa', 'isofoam', 'free-flown', '11.7', 'max', '2.80', 'drag-modulation', 'kelley', '/method', 'calculus-of-variations', 'optimum-programing', 'acceleration-tolerance', 'ribbon', 'travel', 'inevitably', 'dipole', 'inviscid-flow-field', 'fifth-degree', 'stagnation-enthalpy', 'supersonic-flow', 'inviscid-incompressible-flow', 'orthogonally', 'height-to-jet', '0.55', 'maximuin', 'plk', 'portious', '/direct/', '/inverse/', 'spirit', 'poincare-lighthill-kuo', 'annul', 'low-termperature', '4.76', 'curved-surface', 'vaporizing', 'density-viscosity', '0.25', 'impact-pressure', 'sub-case', 'mixing-layer', 'compression-corner', 'hypersoule', '3,000', 'summation', 'avove', '40-50', '0.58', 'cosine', 'high-', 'high-pressure', '1400', 'curtain', 'underside', 'bifurcated', 'kirchhoff-helmholtz', 'steamline', 'sturm-liouville', 'flat-headed', 'bounary', 'murphy', '536-537', 'light-gas', 'nonmagnetic', 'ponderomotive', 'supersonic-aircraft', 'implement', 'cancelled', '2.24', 'scars-haack', 'diamond-profile', '9.17', 'kinking', 'accommodate', 'upstream-transpiration', 'injection-cooled', 'compressible-', 'integro-differential', 'integrands', 'runge-kutta', '/momentary', 'prevail', 'instant', 'transverse-wave', 'longitudinal-vortices', 'overshadow', 'fales', 'reservation', 'momentary', 'suppress', 'broad-spectrum', 'modifying', 'radiation/', 'sound-', 'ray', '/absorbed/', '/generated/', '/generation/', 'visualized', 'schematic', 'transferring', '/stationary/', 'selective', 'amplifier', 'kinematically', 'shear-layer', 'downstream-propagating', 'silencing', 'teeth', 'discussing', 'nonplanar', 'termwise', 'far-flow', '/boom', 'body-volume', 'shock-shape', 'mahony', 'conductor', 'coulomb', 'identically', 'fluid-pressure', 'reduced-plasma', 'loitsianskii', 'bolshakov', 'velocity-enthalpy', 'merger', 'outermost', 'merging', '/specific', 'momentum-area/', 'displacement-area', 'stream-tube', 'dilation', 'quarter', 'quarter-infinite', 'iferation', 'concurrent', 'dependency', 'grouped', '/viscous-layer', 'acrothermochemistry', 'maxwell', 'acquired', 'characterize', 'schlieren-photomultiplier', '1.58', 'mirels', 'floor', 'martin', 'detect', '0.000', 'rarefied-air', '5.7', '4,100', '3.55', '5.73', 'inhomogeneous', '/joining/', 'unresolved', 'depicting', 'cast', '/history', 'concept/', 'pseudo-two-', 'distort', 'semidiameter', '21,350', 'nonslender', 'laminar-', 'turbulent-flow', 'jet-mixing', '/linear/', 'substantiates', 'pictured', 'quenches', 'holder', 'differentiate', '1,700f.', 'reproducible', 'local-wave', 'pressure-recovery', 'calcualted', 'fixed-geometry', 'sugar-scoop', 'hypass', 'f8u-3', 'lightly', '/modified/', 'constant-strength', 'helical', 'evvard', 'krasilshchikova', 'nonorthogonal', 'noncommunicating', 'supersonic-hypersonic', 'strip-theory', 'complimentary', '/assists/', '6,000degreek', 'cone-hemisphere', 'unsteadily', 'obliquely', 'cancellation', 'cancel', 'restores', 'recovered', 'opportunity', 'tollmien-schlichting', 'breaking', '4.2', 'aerothermal', 'age', 'absorbing', 'blocking', 'cumbersome', 'sigularity', 'realize', '17,500', 'withdrawal', 'tubulence', '3.81', 'apex-angles', '8.60', 'shypersonic', 'reflected-shock', 'statistical-mechanical', 'constantly', 'shock-processed', 'inconclusive', 'clarify', 'freestream-injectant', 'sobsonic', 'in-phase', '11.60', '6.00', 'inserted', 'wall-mounted', 'strip-analysis', 'l57l10', 'modulated', 'polars', 'modulation', 'unmodulated', 'resultant-force', 'deceleration-limited', 'pluming', '9.65', '500,000', '600,000', '3.74', '4.60', 'jet-boundary', '165,000', '215,000', 'jet-pressure', 'plume', 'jet-on', 'jet-plume', 'nozzle-area', 'displacing', 'user', 'gas-dynamic', 'nitric', 'oxide', 'shuffle', 'three-body', 'depletion', 'rf', 'd-c', 'deionization', 'sheath', 'vibrationally', 'decade', 'attempted', 'outer-edge', 'hollow-cylinder', 'hantzsche', 'wendt', 'semi-vertical', 'bullet', '1.46', 'spindle-shaped', 'circular-cone', 'vortical', 'fort', 'halstead', '0.1428', 'near-conical', 'yawed-cylinder', 'heat-flux', 'criticized', 'climinated', 'originting', 'piston-analogy', 'two-and', 'ogive-cylinders', 'claim', 'prepare', 'depart', 'primary-shock', 'cent/', \"'straight-through\", 'diaphragm', 'sight', \"'tailored\", 'calcualtions', '18,000k', 'surveyed', '6in', 'argon-free', 'hydrogen-oxygen', 'specifiic', 'comprise', 'uniform-sectioned', 'spectrum-line', 'sodium-line', 'photomultiplier', 'oscillograph', 'filter', 'photomultipliers', 'spectrograph', 'mirror', 'interposed', 'brightness', '20degreec', 'disequilibrium', 'single-beam', 'indium', 'blue', '3600degreek', '/s.l.r./', '1400degreek', '3000degreek', 'ref.6', 'flash', '6000degreek', 'thirdly', 'sweeping', 'coating', '/tietjens', 'orr-sommerfeld', 'nondissipative', '/most', 'dangerous/', 'permissable', 'sketchy', 'qualitiative', 'resiliant', \"'non-viscous\", 'altogether', 're-establish', 'laminar-flow', 're-established', 'deposited', 'unfavourable', 'ducting', 'visualised', 'china-clay', 'pimple', 'protuberance', '0.004', 'm.p.h.', '0.002', 'sea-level', 'halved', 'perforation', 'drilled', 'low-drag-type', '5-ft', 'ascertained', 'safely', 'throttle', 'handley', 'ltd.', 'sucked', '1300-', '1500-lb', 'thrust-vector', 'conicals', 'zero-flow', 'ejector', 'gascous', 'nozzle-wall', 'injector', 'axial-thrust', 'nozzle-expansion', 'a=0,1,2', 'a=0,1', 'a=2', 'hick', 'chu', 'turbojet-powered', 'non-stationary', 'vertical-gust', 'pre-rotation', '1925', '629', 'kussner', 'utilize', 'edged', 'sweptwing', 'random-process', 'nineteen', 'stipulated', 'untwisted', 'growing', '61', '3014', 'drive', '9.0', 'charging', 'length-chord', '26-inch', 'swept-back-wing', 'solid-construction', '65a004', 'fluttered', 'steady-flow', '/effective/', 'drilling', 'weakened', '1.43', 'designated', 'aspect-ratio-2', 'aspect-ratio-6', 'horseshoe', 'summing', 'defines', '84', 'rectilinear', 'intersects', 'linearized-theory', 'trailing-edge-tip', '10g', '/escape/', 'skipping', 'multiple-pass', 'alternatively', 'steepness', 'price', 'achievable', 'g-load', 'deepest', 'modulating', 'hot-gas', 'ruled', 'weight-to-area', 'jet-interference', 'jet-static-pressure', 'research-type', 'compressed-air', '0.57', 'jet-static-', '1460', 'duplicated', 'billowing', 'missile-type', '2-by', '2-foot', 'cone-', 'unitary', '4.65', '317,000', '582,000', '3.72', '1,150', '-4', 'flare-cylinder', '92', '1.92', 'inoperative', 'amounted', 'fore-drag', 'two-step', '11in', '6.98', '4.36', '7.08', 'insulated-plate', 'boundary-layer-induced', 'ramp', 'thing', 'large-angled', 'protrude', 'revert', 'supplorted', 'z-section', 'disparity', 'rand', 'step-', 'force-deformation', 'handle', 'warped', 'suffered', 'velocity-profiles', 'velocity-component', 'conceivable', 'yeilds', 'interdependence', 'agency', 'provoking', 'osoen', 'sphere.', 'oseens', 'criticism', 'globule', 'approximates', 'y=0', 'c=0.35', 'non-uniformity', 'lengthened', 'eddy-viscosity', 'admitting', 'minimization', 'superaerodynamic', 'ordered', 'low-subsonic', 'hot-body', 'warhead', 'cold-body', 'minimal-surface', 'modified-oseen', 'carrier', 'termed', 'overcomes', 'p-function', 'scattering', 'ofr', 'blunt-cone', 'degree-half-angle', 'power.', 'hemispherically', 'debatable', 'breguet', 'flow-dash', 'touched', 'multistaging', 'grand', 'sections.', 'invariably', 'exotic', 'unrestricted', 'thermopropulsive', 'search', 'strange', 'unorthodox', 'select', 'outweight', 'fin-stabilized', '13.8', 'sheltered', 'sheltered-side', 'stream-lines', 'pressure-rise', '2.96', 'womersley', 'facilitating', '11.78', 'speed-distribution', 'shortly', 'locate', 'financial', 'assistance', 'fourth-', 'investigation.', 'divide', 'clamping', 'development.', 'midway', 'register', 'instruction', 'cauchy', 'y1', 'y2', 'reformulated', 'continuum-type', 're-', 'delineated', 'definable', 'aeolotropic', 'determinantal', 'intuition', 'gauged', '/free-stream/', 'standoff', 'hoshizaki', 'recoverable', '9.2', '11.2', 'viscous-layer', 'reynolds-number-', 'incipient-merged-layer', 'simply-supported', 'fralich', 'prevented', 'ing', '2,3', 'dividing', 'ob']\n",
            "(8839, 1400)\n",
            "(8839, 1400)\n",
            "(8839, 1400)\n"
          ],
          "name": "stdout"
        }
      ]
    },
    {
      "cell_type": "code",
      "metadata": {
        "id": "er1Pu4Dy6_2F"
      },
      "source": [
        "queriesVector = np.zeros((len(unique_unigrams), len(processedQueries)))\n",
        "for l in range(len(unique_unigrams)):\n",
        "  for i in range(len(processedQueries)):\n",
        "    count = 0\n",
        "    for j in range(len(processedQueries[i])):\n",
        "      for k in range(len(processedQueries[i][j])):\n",
        "        if processedQueries[i][j][k] == unique_unigrams[l]:\n",
        "          count = count + 1\n",
        "    queriesVector[l][i] = count\n",
        "\n",
        "for i in range(len(unique_unigrams)):\n",
        "  idf = len(doc_ids) / df_list[i]\n",
        "  for j in range(len(queries)):\n",
        "    queriesVector[i][j] = queriesVector[i][j] * (math.log10(idf))"
      ],
      "execution_count": 27,
      "outputs": []
    },
    {
      "cell_type": "code",
      "metadata": {
        "id": "uJG1rLlW5_hj"
      },
      "source": [
        "# Read relevance judements\n",
        "def EvaluateSystem(doc_IDs_ordered):\n",
        "  qrels = json.load(open(\"cran_qrels.json\", 'r'))[:]\n",
        "\n",
        "  evaluator=Evaluation()\n",
        "          # Calculate precision, recall, f-score, MAP and nDCG for k = 1 to 10\n",
        "  precisions, recalls, fscores, MAPs, nDCGs = [], [], [], [], []\n",
        "  for k in range(1, 11):\n",
        "    precision = evaluator.meanPrecision(\n",
        "                  doc_IDs_ordered, query_ids, qrels, k)\n",
        "    precisions.append(precision)\n",
        "    recall = evaluator.meanRecall(\n",
        "                  doc_IDs_ordered, query_ids, qrels, k)\n",
        "    recalls.append(recall)\n",
        "    fscore = evaluator.meanFscore(\n",
        "                  doc_IDs_ordered, query_ids, qrels, k)\n",
        "    fscores.append(fscore)\n",
        "    print(\"Precision, Recall and F-score @ \" +\n",
        "                    str(k) + \" : \" + str(precision) + \", \" + str(recall) +\n",
        "                    \", \" + str(fscore))\n",
        "    MAP = evaluator.meanAveragePrecision(\n",
        "                  doc_IDs_ordered, query_ids, qrels, k)\n",
        "    MAPs.append(MAP)\n",
        "    nDCG = evaluator.meanNDCG(\n",
        "                  doc_IDs_ordered, query_ids, qrels, k)\n",
        "    nDCGs.append(nDCG)\n",
        "    print(\"MAP, nDCG @ \" +\n",
        "                    str(k) + \" : \" + str(MAP) + \", \" + str(nDCG))\n",
        "\n",
        "          # Plot the metrics and save plot\n",
        "  plt.plot(range(1, 11), precisions, label=\"Precision\")\n",
        "  plt.plot(range(1, 11), recalls, label=\"Recall\")\n",
        "  plt.plot(range(1, 11), fscores, label=\"F-Score\")\n",
        "  plt.plot(range(1, 11), MAPs, label=\"MAP\")\n",
        "  plt.plot(range(1, 11), nDCGs, label=\"nDCG\")\n",
        "  plt.legend()\n",
        "  plt.title(\"Evaluation Metrics - Cranfield Dataset\")\n",
        "  plt.xlabel(\"k\")\n",
        "  plt.savefig(\"eval_plot_old.png\")\n",
        "  plt.show()\n"
      ],
      "execution_count": 43,
      "outputs": []
    },
    {
      "cell_type": "markdown",
      "metadata": {
        "id": "qWAgnjBTCyqk"
      },
      "source": [
        "Apply SVD and find K using elbow method"
      ]
    },
    {
      "cell_type": "code",
      "metadata": {
        "colab": {
          "base_uri": "https://localhost:8080/",
          "height": 350
        },
        "id": "UcrYicaJxHe5",
        "outputId": "d10eeacb-4ed1-4564-9e5d-383340a9c191"
      },
      "source": [
        "import numpy as np\n",
        "import matplotlib\n",
        "import matplotlib.pyplot as plt\n",
        "\n",
        "\n",
        "U, S, V = np.linalg.svd(termDocument_Matrix) \n",
        "eigvals = S**2 / np.sum(S**2)  # NOTE (@amoeba): These are not PCA eigenvalues. \n",
        "                               # This question is about SVD.\n",
        "\n",
        "fig = plt.figure(figsize=(8,5))\n",
        "sing_vals = np.arange(1400) + 1\n",
        "plt.plot(sing_vals, eigvals, 'ro-', linewidth=2)\n",
        "plt.title('Scree Plot')\n",
        "plt.xlabel('Principal Component')\n",
        "plt.ylabel('Eigenvalue')\n",
        "#I don't like the default legend so I typically make mine like below, e.g.\n",
        "#with smaller fonts and a bit transparent so I do not cover up data, and make\n",
        "#it moveable by the viewer in case upper-right is a bad place for it \n",
        "leg = plt.legend(['Eigenvalues from SVD'], loc='best', borderpad=0.3, \n",
        "                 shadow=False, prop=matplotlib.font_manager.FontProperties(size='small'),\n",
        "                 markerscale=0.4)\n",
        "leg.get_frame().set_alpha(0.4)\n",
        "plt.show()"
      ],
      "execution_count": 28,
      "outputs": [
        {
          "output_type": "display_data",
          "data": {
            "image/png": "[encoded data removed]",
            "text/plain": [
              "<Figure size 576x360 with 1 Axes>"
            ]
          },
          "metadata": {
            "tags": [],
            "needs_background": "light"
          }
        }
      ]
    },
    {
      "cell_type": "code",
      "metadata": {
        "id": "N6oqKYpx6UTz"
      },
      "source": [
        "K=1300"
      ],
      "execution_count": 53,
      "outputs": []
    },
    {
      "cell_type": "code",
      "metadata": {
        "id": "BVSmXmOi2dhH"
      },
      "source": [
        "a = np.zeros((K, K), int)\n",
        "np.fill_diagonal(a,S[:K])\n",
        "a_inverse=np.linalg.inv(a) "
      ],
      "execution_count": 54,
      "outputs": []
    },
    {
      "cell_type": "code",
      "metadata": {
        "colab": {
          "base_uri": "https://localhost:8080/"
        },
        "id": "_FxUk_9z3pWF",
        "outputId": "d3bb9eff-0423-4165-ddf5-d6032a7a0bd7"
      },
      "source": [
        "TF_IDF_matrix_reduced = np.dot(U[:,:K], np.dot(np.diag(S[:K]), V[:K, :]))\n",
        "print(TF_IDF_matrix_reduced.shape)"
      ],
      "execution_count": 55,
      "outputs": [
        {
          "output_type": "stream",
          "text": [
            "(8839, 1400)\n"
          ],
          "name": "stdout"
        }
      ]
    },
    {
      "cell_type": "code",
      "metadata": {
        "id": "WlzKlw4E5xYI"
      },
      "source": [
        "docs_rep = np.dot(np.diag(S[:K]), V[:K, :]) # N x K matrix "
      ],
      "execution_count": 56,
      "outputs": []
    },
    {
      "cell_type": "code",
      "metadata": {
        "colab": {
          "base_uri": "https://localhost:8080/"
        },
        "id": "prlPsdRB529D",
        "outputId": "caa16cfe-3928-424b-fd0f-cbfa93147b04"
      },
      "source": [
        "print(docs_rep.shape)"
      ],
      "execution_count": 57,
      "outputs": [
        {
          "output_type": "stream",
          "text": [
            "(1300, 1400)\n"
          ],
          "name": "stdout"
        }
      ]
    },
    {
      "cell_type": "code",
      "metadata": {
        "id": "OF0uAPnUKbLv"
      },
      "source": [
        "def findOrderedDocIDs_UsingVSM():\n",
        "  doc_IDs_ordered = []\n",
        "          # print(queriesVector)\n",
        "  cosineSimilarites = np.zeros((len(processedQueries), len(doc_ids)))\n",
        "  for i in range(len(processedQueries)):\n",
        "    queryVector = queriesVector[:, i]\n",
        "    \n",
        "    #modifedQueryVector=np.dot(queryVector,np.dot(U[:, :K],a_inverse))\n",
        "    #print(modifedQueryVector.shape)\n",
        "    for j in range(len(doc_ids)):\n",
        "      cosineSimilarites[i][j] = max(0, cosineSimilarityMeasure(queryVector, termDocument_Matrix[:,j] ))\n",
        "  orderedSimilarities = np.argsort(cosineSimilarites)\n",
        "  for i in range(len(processedQueries)):\n",
        "    queryOrderlist = list()\n",
        "    for j in range(len(doc_ids)):\n",
        "      queryOrderlist.append(doc_ids[orderedSimilarities[i][len(doc_ids) - 1 - j]])\n",
        "    doc_IDs_ordered.append(queryOrderlist)\n",
        "  return doc_IDs_ordered"
      ],
      "execution_count": 58,
      "outputs": []
    },
    {
      "cell_type": "code",
      "metadata": {
        "id": "PjKficM_vVLT"
      },
      "source": [
        "def findOrderedDocIDs_UsingLSA():\n",
        "  doc_IDs_ordered = []\n",
        "          # print(queriesVector)\n",
        "  cosineSimilarites = np.zeros((len(processedQueries), len(doc_ids)))\n",
        "  for i in range(len(processedQueries)):\n",
        "    queryVector = queriesVector[:, i]\n",
        "    \n",
        "    modifedQueryVector=np.dot(queryVector,np.dot(U[:, :K],a_inverse))\n",
        "    #print(modifedQueryVector.shape)\n",
        "    for j in range(len(doc_ids)):\n",
        "      cosineSimilarites[i][j] = max(0, cosineSimilarityMeasure(modifedQueryVector, docs_rep[:,j] ))\n",
        "  orderedSimilarities = np.argsort(cosineSimilarites)\n",
        "  for i in range(len(processedQueries)):\n",
        "    queryOrderlist = list()\n",
        "    for j in range(len(doc_ids)):\n",
        "      queryOrderlist.append(doc_ids[orderedSimilarities[i][len(doc_ids) - 1 - j]])\n",
        "    doc_IDs_ordered.append(queryOrderlist)\n",
        "  return doc_IDs_ordered\n",
        "\n",
        "\n"
      ],
      "execution_count": 41,
      "outputs": []
    },
    {
      "cell_type": "code",
      "metadata": {
        "id": "dEvBqc8DKUA9"
      },
      "source": [
        "doc_IDs_ordered_LSA = findOrderedDocIDs_UsingLSA()"
      ],
      "execution_count": 60,
      "outputs": []
    },
    {
      "cell_type": "code",
      "metadata": {
        "colab": {
          "base_uri": "https://localhost:8080/"
        },
        "id": "U5sniIawKrXz",
        "outputId": "c69c2990-fff4-4282-cb1b-5c24a350c4bc"
      },
      "source": [
        "doc_IDs_ordered_VSM = findOrderedDocIDs_UsingVSM()"
      ],
      "execution_count": 59,
      "outputs": [
        {
          "output_type": "stream",
          "text": [
            "/usr/local/lib/python3.7/dist-packages/ipykernel_launcher.py:3: RuntimeWarning: invalid value encountered in double_scalars\n",
            "  This is separate from the ipykernel package so we can avoid doing imports until\n"
          ],
          "name": "stderr"
        }
      ]
    },
    {
      "cell_type": "code",
      "metadata": {
        "colab": {
          "base_uri": "https://localhost:8080/",
          "height": 635
        },
        "id": "7i3DD7oNB-1V",
        "outputId": "57aa61ab-ea7b-4ea4-9bba-7d0bc86c89e5"
      },
      "source": [
        "Model_VSM=EvaluateSystem(doc_IDs_ordered_VSM)"
      ],
      "execution_count": 61,
      "outputs": [
        {
          "output_type": "stream",
          "text": [
            "Precision, Recall and F-score @ 1 : 0.6355555555555555, 0.10864526330604757, 0.17863320256997411\n",
            "MAP, nDCG @ 1 : 0.6355555555555555, 0.6355555555555555\n",
            "Precision, Recall and F-score @ 2 : 0.5444444444444444, 0.18010201378438814, 0.2543361515749991\n",
            "MAP, nDCG @ 2 : 0.6844444444444444, 0.6839094862925976\n",
            "Precision, Recall and F-score @ 3 : 0.47703703703703715, 0.2253680232909763, 0.2845791231814223\n",
            "MAP, nDCG @ 3 : 0.6911111111111113, 0.6960323045042082\n",
            "Precision, Recall and F-score @ 4 : 0.4211111111111111, 0.25797901855369565, 0.29614574536328714\n",
            "MAP, nDCG @ 4 : 0.690493827160494, 0.7045976287915199\n",
            "Precision, Recall and F-score @ 5 : 0.37955555555555576, 0.2850613598641071, 0.30061591085229983\n",
            "MAP, nDCG @ 5 : 0.6812037037037038, 0.7110658635404503\n",
            "Precision, Recall and F-score @ 6 : 0.3533333333333333, 0.3148780819945549, 0.3079232715743815\n",
            "MAP, nDCG @ 6 : 0.671777777777778, 0.7147610250271377\n",
            "Precision, Recall and F-score @ 7 : 0.3307936507936509, 0.3395813376246637, 0.30976753110943017\n",
            "MAP, nDCG @ 7 : 0.6647913580246916, 0.7166721047218747\n",
            "Precision, Recall and F-score @ 8 : 0.31555555555555553, 0.3640301952199822, 0.31248174508328563\n",
            "MAP, nDCG @ 8 : 0.6500801965230537, 0.7060372460794057\n",
            "Precision, Recall and F-score @ 9 : 0.2967901234567905, 0.38068670491828743, 0.30859023303776656\n",
            "MAP, nDCG @ 9 : 0.6461278722600151, 0.7089545586920699\n",
            "Precision, Recall and F-score @ 10 : 0.2768888888888891, 0.3930558869345282, 0.3007276707461018\n",
            "MAP, nDCG @ 10 : 0.6347774523389602, 0.7052066357523517\n"
          ],
          "name": "stdout"
        },
        {
          "output_type": "display_data",
          "data": {
            "image/png": "[encoded data removed]",
            "text/plain": [
              "<Figure size 432x288 with 1 Axes>"
            ]
          },
          "metadata": {
            "tags": [],
            "needs_background": "light"
          }
        }
      ]
    },
    {
      "cell_type": "code",
      "metadata": {
        "colab": {
          "base_uri": "https://localhost:8080/",
          "height": 635
        },
        "id": "rlyjYMCfK-FE",
        "outputId": "ac10aece-a345-4294-cd84-d20526fd1d83"
      },
      "source": [
        "Model_LSA=EvaluateSystem(doc_IDs_ordered_LSA)"
      ],
      "execution_count": 62,
      "outputs": [
        {
          "output_type": "stream",
          "text": [
            "Precision, Recall and F-score @ 1 : 0.5066666666666667, 0.08852735470774684, 0.1447814996346799\n",
            "MAP, nDCG @ 1 : 0.5066666666666667, 0.5066666666666667\n",
            "Precision, Recall and F-score @ 2 : 0.41333333333333333, 0.13741355057433477, 0.1945205730949736\n",
            "MAP, nDCG @ 2 : 0.5622222222222222, 0.5663916293629991\n",
            "Precision, Recall and F-score @ 3 : 0.34962962962962957, 0.1710761688690696, 0.21437376770804892\n",
            "MAP, nDCG @ 3 : 0.5744444444444442, 0.5897810193089279\n",
            "Precision, Recall and F-score @ 4 : 0.31555555555555553, 0.20526583854379674, 0.23118910803076476\n",
            "MAP, nDCG @ 4 : 0.5709876543209876, 0.5999284596653988\n",
            "Precision, Recall and F-score @ 5 : 0.29866666666666697, 0.2341999336196874, 0.24310820060588964\n",
            "MAP, nDCG @ 5 : 0.562320987654321, 0.6059021953980419\n",
            "Precision, Recall and F-score @ 6 : 0.2688888888888887, 0.24667179718507082, 0.23769777366092787\n",
            "MAP, nDCG @ 6 : 0.5578962962962964, 0.6100799295864076\n",
            "Precision, Recall and F-score @ 7 : 0.24761904761904785, 0.2641915732466425, 0.23613903951683882\n",
            "MAP, nDCG @ 7 : 0.5600490299823635, 0.6223373094034218\n",
            "Precision, Recall and F-score @ 8 : 0.23277777777777778, 0.2805371328202723, 0.23555194700603782\n",
            "MAP, nDCG @ 8 : 0.5452920634920636, 0.6208985456045144\n",
            "Precision, Recall and F-score @ 9 : 0.21975308641975314, 0.2968719893217954, 0.2338164731818388\n",
            "MAP, nDCG @ 9 : 0.5386090325018897, 0.620147352854536\n",
            "Precision, Recall and F-score @ 10 : 0.2075555555555559, 0.31056357144023067, 0.2303194373624027\n",
            "MAP, nDCG @ 10 : 0.5360533467708072, 0.6246117805640791\n"
          ],
          "name": "stdout"
        },
        {
          "output_type": "display_data",
          "data": {
            "image/png": "[encoded data removed]",
            "text/plain": [
              "<Figure size 432x288 with 1 Axes>"
            ]
          },
          "metadata": {
            "tags": [],
            "needs_background": "light"
          }
        }
      ]
    },
    {
      "cell_type": "code",
      "metadata": {
        "id": "rX2zTFacgiXl"
      },
      "source": [
        "# terms = vectorizer.get_feature_names()\n",
        "\n",
        "# for i, comp in enumerate(svd_model.components_):\n",
        "#     terms_comp = zip(terms, comp)\n",
        "#     sorted_terms = sorted(terms_comp, key= lambda x:x[1], reverse=True)[:7]\n",
        "#     print(\"Topic \"+str(i)+\": \")\n",
        "#     for t in sorted_terms:\n",
        "#         print(t[0])\n",
        "#     print(\" \")"
      ],
      "execution_count": null,
      "outputs": []
    },
    {
      "cell_type": "code",
      "metadata": {
        "id": "qpsLztZPsG7Y"
      },
      "source": [
        "# from sklearn.feature_extraction.text import TfidfVectorizer\n",
        "\n",
        "# vectorizer = TfidfVectorizer(stop_words='english', \n",
        "#                              max_df = 0.5, \n",
        "#                              smooth_idf=True)\n",
        "\n",
        "# X = vectorizer.fit_transform(detokenized_doc)"
      ],
      "execution_count": null,
      "outputs": []
    },
    {
      "cell_type": "code",
      "metadata": {
        "id": "Tnd4Vx0onEmn"
      },
      "source": [
        "# with open('preprocessedDocsWithSpellChecker.txt','w') as f:\n",
        "#   for i in range(len(processedDocs)):\n",
        "#     for j in range(len(processedDocs[i])):\n",
        "#       for k in range(len(processedDocs[i][j])):\n",
        "#         f.write(processedDocs[i][j][k]+\" \")\n",
        "#     f.write(\"\\n\")"
      ],
      "execution_count": null,
      "outputs": []
    },
    {
      "cell_type": "code",
      "metadata": {
        "id": "rhBH_w3_9UlV"
      },
      "source": [
        "# detokenized_doc = []\n",
        "# for i in range(len(processedDocs)):\n",
        "#   for j in range(len(processedDocs[i])):\n",
        "#     t = ' '.join(processedDocs[i][j])\n",
        "#   detokenized_doc.append(t)"
      ],
      "execution_count": null,
      "outputs": []
    },
    {
      "cell_type": "code",
      "metadata": {
        "id": "VrqZEI7p0jjB"
      },
      "source": [
        "# from scipy.spatial.distance import cosine\n",
        "# doc_IDs_ordered=[]\n",
        "# for i in range(len(processedQueries)):\n",
        "#   query_rep = lsa_query_rep(processedQueries[i][0])\n",
        "#   query_doc_cos_dist = [1-cosine(query_rep, doc_rep) for doc_rep in docs_rep]\n",
        "#   query_doc_sort_index = np.argsort(np.array(query_doc_cos_dist))[::-1]\n",
        "#   doc_IDs_ordered.append(query_doc_sort_index)\n",
        "\n",
        "# # for rank, sort_index in enumerate(query_doc_sort_index):\n",
        "# #     print(rank)\n",
        "# #     print(sort_index)"
      ],
      "execution_count": 123,
      "outputs": []
    },
    {
      "cell_type": "code",
      "metadata": {
        "colab": {
          "base_uri": "https://localhost:8080/"
        },
        "id": "JPu3gHSC8xl-",
        "outputId": "94cc8edc-1ff9-48e4-c776-aa64c0a68717"
      },
      "source": [
        "# from scipy.linalg import svd\n",
        "# u, s, vt = svd(termDocument_Matrix)\n",
        "# k = 800\n",
        "# U = u[:, :k]\n",
        "# S = s[:k]\n",
        "# a = np.zeros((k, k), int)\n",
        "# np.fill_diagonal(a,S)\n",
        "# Vt = vt[:k, :]  # Document vectors\n",
        "# W = u[:, :k] @ np.diag(s[:k])  # Word vectors\n",
        "# kRankApproximation = np.dot(np.dot(U, a), Vt)\n",
        "# for i in range(len(unique_unigrams)):\n",
        "#   for j in range(len(doc_ids)):\n",
        "#     kRankApproximation[i][j] = max(0,kRankApproximation[i][j])\n",
        "# print(kRankApproximation.shape)"
      ],
      "execution_count": null,
      "outputs": [
        {
          "output_type": "stream",
          "text": [
            "(8131, 1400)\n"
          ],
          "name": "stdout"
        }
      ]
    },
    {
      "cell_type": "code",
      "metadata": {
        "id": "qP23LgAdweQX"
      },
      "source": [
        "# import numpy as np\n",
        "# K=100\n",
        "# # Applying SVD\n",
        "# U, s, VT = np.linalg.svd(X.T.toarray()) # .T is used to take transpose and .toarray() is used to convert sparse matrix to normal matrix\n",
        "\n",
        "# print(U.shape)\n",
        "# print(s.shape)\n",
        "# print(VT.shape)\n",
        "# TF_IDF_matrix_reduced = np.dot(U[:,:K], np.dot(np.diag(s[:K]), VT[:K, :]))\n",
        "\n",
        "# # Getting document and term representation\n",
        "# terms_rep = np.dot(U[:,:K], np.diag(s[:K])) # M X K matrix where M = Vocabulary Size and N = Number of documents\n",
        "# docs_rep = np.dot(np.diag(s[:K]), VT[:K, :]).T # N x K matrix "
      ],
      "execution_count": null,
      "outputs": []
    },
    {
      "cell_type": "markdown",
      "metadata": {
        "id": "QyOpvtL6O8m-"
      },
      "source": [
        "Explicit Semantic Analysis"
      ]
    },
    {
      "cell_type": "code",
      "metadata": {
        "colab": {
          "base_uri": "https://localhost:8080/"
        },
        "id": "dAC6FthDz8uG",
        "outputId": "974e56ec-f36a-43bd-a171-2a5000fea045"
      },
      "source": [
        ""
      ],
      "execution_count": 2,
      "outputs": [
        {
          "output_type": "stream",
          "text": [
            "--2021-05-30 02:30:58--  https://dumps.wikimedia.org/enwiki/latest/enwiki-latest-pages-articles.xml.bz2\n",
            "Resolving dumps.wikimedia.org (dumps.wikimedia.org)... 208.80.154.7, 2620:0:861:1:208:80:154:7\n",
            "Connecting to dumps.wikimedia.org (dumps.wikimedia.org)|208.80.154.7|:443... connected.\n",
            "HTTP request sent, awaiting response... 200 OK\n",
            "Length: 18595787357 (17G) [application/octet-stream]\n",
            "Saving to: ‘enwiki-latest-pages-articles.xml.bz2’\n",
            "\n",
            "enwiki-latest-pages 100%[===================>]  17.32G  4.49MB/s    in 64m 44s \n",
            "\n",
            "2021-05-30 03:35:42 (4.57 MB/s) - ‘enwiki-latest-pages-articles.xml.bz2’ saved [18595787357/18595787357]\n",
            "\n"
          ],
          "name": "stdout"
        }
      ]
    },
    {
      "cell_type": "code",
      "metadata": {
        "colab": {
          "base_uri": "https://localhost:8080/"
        },
        "id": "bkxcU8FtyzkY",
        "outputId": "80f9d25d-c957-4afa-d8c2-027367443409"
      },
      "source": [
        "!pip install esa-wiki"
      ],
      "execution_count": 3,
      "outputs": [
        {
          "output_type": "stream",
          "text": [
            "Collecting esa-wiki\n",
            "  Downloading https://files.pythonhosted.org/packages/0e/e0/9d54bc3e1ddadf03eb26cd730d61f2ac13201d1d629aca0952a624ab3d4b/esa_wiki-0.0.1-py3-none-any.whl\n",
            "Installing collected packages: esa-wiki\n",
            "Successfully installed esa-wiki-0.0.1\n"
          ],
          "name": "stdout"
        }
      ]
    },
    {
      "cell_type": "code",
      "metadata": {
        "colab": {
          "base_uri": "https://localhost:8080/"
        },
        "id": "yY_LNi4oWA8o",
        "outputId": "065da5a2-2e37-49a7-b2c2-0acda496c4ea"
      },
      "source": [
        "!bunzip2 /content/enwiki-latest-pages-articles.xml.bz2"
      ],
      "execution_count": 9,
      "outputs": [
        {
          "output_type": "stream",
          "text": [
            "\n",
            "bunzip2: I/O or other error, bailing out.  Possible reason follows.\n",
            "bunzip2: No space left on device\n",
            "\tInput file = /content/enwiki-latest-pages-articles.xml.bz2, output file = /content/enwiki-latest-pages-articles.xml\n",
            "bunzip2: Deleting output file /content/enwiki-latest-pages-articles.xml, if it exists.\n"
          ],
          "name": "stdout"
        }
      ]
    },
    {
      "cell_type": "code",
      "metadata": {
        "colab": {
          "base_uri": "https://localhost:8080/"
        },
        "id": "3px2SWLYKOjX",
        "outputId": "4e305e3d-203b-4251-e8e7-db73912727e3"
      },
      "source": [
        "!python3 -m esa_wiki.xml_parse /content/enwiki-latest-pages-articles.xml"
      ],
      "execution_count": 15,
      "outputs": [
        {
          "output_type": "stream",
          "text": [
            "Parsing started... at Sun May 30 03:50:00 2021\n",
            "\n",
            "Traceback (most recent call last):\n",
            "  File \"/usr/lib/python3.7/runpy.py\", line 193, in _run_module_as_main\n",
            "    \"__main__\", mod_spec)\n",
            "  File \"/usr/lib/python3.7/runpy.py\", line 85, in _run_code\n",
            "    exec(code, run_globals)\n",
            "  File \"/usr/local/lib/python3.7/dist-packages/esa_wiki/xml_parse.py\", line 264, in <module>\n",
            "    ATST.parse(file_to_parse)\n",
            "  File \"/usr/lib/python3.7/xml/sax/expatreader.py\", line 105, in parse\n",
            "    source = saxutils.prepare_input_source(source)\n",
            "  File \"/usr/lib/python3.7/xml/sax/saxutils.py\", line 364, in prepare_input_source\n",
            "    f = urllib.request.urlopen(source.getSystemId())\n",
            "  File \"/usr/lib/python3.7/urllib/request.py\", line 222, in urlopen\n",
            "    return opener.open(url, data, timeout)\n",
            "  File \"/usr/lib/python3.7/urllib/request.py\", line 510, in open\n",
            "    req = Request(fullurl, data)\n",
            "  File \"/usr/lib/python3.7/urllib/request.py\", line 328, in __init__\n",
            "    self.full_url = url\n",
            "  File \"/usr/lib/python3.7/urllib/request.py\", line 354, in full_url\n",
            "    self._parse()\n",
            "  File \"/usr/lib/python3.7/urllib/request.py\", line 383, in _parse\n",
            "    raise ValueError(\"unknown url type: %r\" % self.full_url)\n",
            "ValueError: unknown url type: '/content/enwiki-latest-pages-articles.xml'\n"
          ],
          "name": "stdout"
        }
      ]
    },
    {
      "cell_type": "code",
      "metadata": {
        "colab": {
          "base_uri": "https://localhost:8080/"
        },
        "id": "YxPTV-FlG4wi",
        "outputId": "62c85b94-9c1f-444a-eea7-dc40626b9ab3"
      },
      "source": [
        "!python3 -m esa_wiki.generate_indices"
      ],
      "execution_count": 11,
      "outputs": [
        {
          "output_type": "stream",
          "text": [
            "Traceback (most recent call last):\n",
            "  File \"/usr/lib/python3.7/runpy.py\", line 193, in _run_module_as_main\n",
            "    \"__main__\", mod_spec)\n",
            "  File \"/usr/lib/python3.7/runpy.py\", line 85, in _run_code\n",
            "    exec(code, run_globals)\n",
            "  File \"/usr/local/lib/python3.7/dist-packages/esa_wiki/generate_indices.py\", line 153, in <module>\n",
            "    main()\n",
            "  File \"/usr/local/lib/python3.7/dist-packages/esa_wiki/generate_indices.py\", line 35, in main\n",
            "    raise IOError\n",
            "OSError\n"
          ],
          "name": "stdout"
        }
      ]
    },
    {
      "cell_type": "code",
      "metadata": {
        "colab": {
          "base_uri": "https://localhost:8080/"
        },
        "id": "zQkNNthAKVRr",
        "outputId": "a6878fb4-7d43-4ddf-a211-6483c37a34b5"
      },
      "source": [
        "!python3 -m esa_wiki.matrix_builder"
      ],
      "execution_count": 12,
      "outputs": [
        {
          "output_type": "stream",
          "text": [
            "Reading in word/index data at Sun May 30 03:48:11 2021\n",
            "\n",
            "Traceback (most recent call last):\n",
            "  File \"/usr/lib/python3.7/runpy.py\", line 193, in _run_module_as_main\n",
            "    \"__main__\", mod_spec)\n",
            "  File \"/usr/lib/python3.7/runpy.py\", line 85, in _run_code\n",
            "    exec(code, run_globals)\n",
            "  File \"/usr/local/lib/python3.7/dist-packages/esa_wiki/matrix_builder.py\", line 218, in <module>\n",
            "    main()\n",
            "  File \"/usr/local/lib/python3.7/dist-packages/esa_wiki/matrix_builder.py\", line 39, in main\n",
            "    word2index = shared.load(open(matrix_dir + 'word2index.ind', 'r'))\n",
            "FileNotFoundError: [Errno 2] No such file or directory: 'matrix/word2index.ind'\n"
          ],
          "name": "stdout"
        }
      ]
    },
    {
      "cell_type": "code",
      "metadata": {
        "id": "fPJcs8IEOeF8"
      },
      "source": [
        "# detokenized_doc = []\n",
        "# for i in range(len(processedDocs)):\n",
        "#   for j in range(len(processedDocs[i])):\n",
        "#     t = ' '.join(processedDocs[i][j])\n",
        "#   detokenized_doc.append(t)"
      ],
      "execution_count": null,
      "outputs": []
    },
    {
      "cell_type": "code",
      "metadata": {
        "id": "F0YNZ_ZVQD40"
      },
      "source": [
        "with open(train_filename, \"r\", encoding=\"utf-8\") as f:\n",
        "    lines = f.read().split(\"\\n\")"
      ],
      "execution_count": null,
      "outputs": []
    }
  ]
}